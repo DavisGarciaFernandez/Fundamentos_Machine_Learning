{
 "cells": [
  {
   "cell_type": "markdown",
   "id": "87b56c6f",
   "metadata": {},
   "source": [
    "# ESTRUCTURAS DE DATOS\n",
    "Las estructuras de datos en Python se pueden entender como un tipo de dato compuesto, debido a que en una misma variable podemos almacenar una estructura completa con información. Dichas estructuras, pueden tener diferentes características y funcionalidades. De hecho, existen múltiples tipos de estructuras de datos en Python\n",
    "\n",
    "Las estructuras de datos más comunes en Python son:\n",
    "* Listas\n",
    "* Tuplas\n",
    "* Conjuntos\n",
    "* Diccionarios"
   ]
  },
  {
   "cell_type": "markdown",
   "id": "78c30f00",
   "metadata": {},
   "source": [
    "# Listas\n",
    "Una lista es una secuencias ordenadas de objetos de distintos tipos.\n",
    "\n",
    "Se construyen poniendo los elementos entre corchetes [ ] separados por comas.\n",
    "\n",
    "Se caracterizan por:\n",
    "\n",
    "* Tienen orden.\n",
    "* Pueden contener elementos de distintos tipos.\n",
    "* Son mutables, es decir, pueden alterarse durante la ejecución de un programa."
   ]
  },
  {
   "cell_type": "code",
   "execution_count": 1,
   "id": "d3b7b683",
   "metadata": {},
   "outputs": [
    {
     "data": {
      "text/plain": [
       "list"
      ]
     },
     "execution_count": 1,
     "metadata": {},
     "output_type": "execute_result"
    }
   ],
   "source": [
    "# Lista vacía\n",
    "type([])"
   ]
  },
  {
   "cell_type": "code",
   "execution_count": 2,
   "id": "e7186d58",
   "metadata": {},
   "outputs": [
    {
     "data": {
      "text/plain": [
       "['dos', True]"
      ]
     },
     "execution_count": 2,
     "metadata": {},
     "output_type": "execute_result"
    }
   ],
   "source": [
    "# Lista con elementos de distintos tipos\n",
    "a=[\"dos\", True]"
   ]
  },
  {
   "cell_type": "code",
   "execution_count": 3,
   "id": "55f683f6",
   "metadata": {},
   "outputs": [
    {
     "data": {
      "text/plain": [
       "[1, [2, 3], 4]"
      ]
     },
     "execution_count": 3,
     "metadata": {},
     "output_type": "execute_result"
    }
   ],
   "source": [
    "# Listas anidadas\n",
    "[1, [2, 3], 4]"
   ]
  },
  {
   "cell_type": "markdown",
   "id": "c3c9a34f",
   "metadata": {},
   "source": [
    "## Creación de listas mediante la función list()\n",
    "Otra forma de crear listas es mediante la función list().\n",
    "\n",
    "+ list(c) : Crea una lista con los elementos de la secuencia o colección c.\n",
    "Se pueden indicar los elementos separados por comas, mediante una cadena, o mediante una colección de elementos iterable."
   ]
  },
  {
   "cell_type": "code",
   "execution_count": 4,
   "id": "31a5ec05",
   "metadata": {},
   "outputs": [
    {
     "data": {
      "text/plain": [
       "[]"
      ]
     },
     "execution_count": 4,
     "metadata": {},
     "output_type": "execute_result"
    }
   ],
   "source": [
    "list()"
   ]
  },
  {
   "cell_type": "code",
   "execution_count": 16,
   "id": "391c2d04",
   "metadata": {},
   "outputs": [
    {
     "data": {
      "text/plain": [
       "['1', '2', '3']"
      ]
     },
     "execution_count": 16,
     "metadata": {},
     "output_type": "execute_result"
    }
   ],
   "source": [
    "list(\"123\")"
   ]
  },
  {
   "cell_type": "code",
   "execution_count": 6,
   "id": "bc745a3e",
   "metadata": {},
   "outputs": [
    {
     "data": {
      "text/plain": [
       "['P', 'y', 't', 'h', 'o', 'n']"
      ]
     },
     "execution_count": 6,
     "metadata": {},
     "output_type": "execute_result"
    }
   ],
   "source": [
    "list(\"Python\")"
   ]
  },
  {
   "cell_type": "markdown",
   "id": "941e3e7e",
   "metadata": {},
   "source": [
    "## Acceso a los elementos de una lista\n",
    "Se utilizan los mismos operadores de acceso que para cadenas de caracteres.\n",
    "\n",
    "* l[i] : Devuelve el elemento de la lista l con el índice i.\n",
    " El índice del primer elemento de la lista es 0."
   ]
  },
  {
   "cell_type": "code",
   "execution_count": 17,
   "id": "85077fd3",
   "metadata": {},
   "outputs": [],
   "source": [
    "a = ['P', 'y', 't', 'h', 'o', 'n']"
   ]
  },
  {
   "cell_type": "code",
   "execution_count": 18,
   "id": "388dfa20",
   "metadata": {},
   "outputs": [
    {
     "data": {
      "text/plain": [
       "'P'"
      ]
     },
     "execution_count": 18,
     "metadata": {},
     "output_type": "execute_result"
    }
   ],
   "source": [
    "a[0]"
   ]
  },
  {
   "cell_type": "code",
   "execution_count": 19,
   "id": "7ed27cb6",
   "metadata": {},
   "outputs": [
    {
     "data": {
      "text/plain": [
       "'n'"
      ]
     },
     "execution_count": 19,
     "metadata": {},
     "output_type": "execute_result"
    }
   ],
   "source": [
    "a[5]"
   ]
  },
  {
   "cell_type": "code",
   "execution_count": 20,
   "id": "33e0f9e3",
   "metadata": {},
   "outputs": [
    {
     "ename": "IndexError",
     "evalue": "list index out of range",
     "output_type": "error",
     "traceback": [
      "\u001b[1;31m---------------------------------------------------------------------------\u001b[0m",
      "\u001b[1;31mIndexError\u001b[0m                                Traceback (most recent call last)",
      "\u001b[1;32m<ipython-input-20-84c1e027215d>\u001b[0m in \u001b[0;36m<module>\u001b[1;34m\u001b[0m\n\u001b[1;32m----> 1\u001b[1;33m \u001b[0ma\u001b[0m\u001b[1;33m[\u001b[0m\u001b[1;36m6\u001b[0m\u001b[1;33m]\u001b[0m\u001b[1;33m\u001b[0m\u001b[1;33m\u001b[0m\u001b[0m\n\u001b[0m",
      "\u001b[1;31mIndexError\u001b[0m: list index out of range"
     ]
    }
   ],
   "source": [
    "a[6]"
   ]
  },
  {
   "cell_type": "code",
   "execution_count": 21,
   "id": "e2e227fb",
   "metadata": {},
   "outputs": [
    {
     "data": {
      "text/plain": [
       "'n'"
      ]
     },
     "execution_count": 21,
     "metadata": {},
     "output_type": "execute_result"
    }
   ],
   "source": [
    "a[-1]"
   ]
  },
  {
   "cell_type": "markdown",
   "id": "9a022db5",
   "metadata": {},
   "source": [
    "## Sublistas\n",
    "* l[i:j:k] : Devuelve la sublista desde el elemento de l con el índice i hasta el elemento anterior al índice j, tomando elementos cada k."
   ]
  },
  {
   "cell_type": "code",
   "execution_count": 22,
   "id": "121f86af",
   "metadata": {},
   "outputs": [],
   "source": [
    "a = ['P', 'y', 't', 'h', 'o', 'n']"
   ]
  },
  {
   "cell_type": "code",
   "execution_count": 23,
   "id": "c5571553",
   "metadata": {},
   "outputs": [
    {
     "data": {
      "text/plain": [
       "['y', 't', 'h']"
      ]
     },
     "execution_count": 23,
     "metadata": {},
     "output_type": "execute_result"
    }
   ],
   "source": [
    "a[1:4]"
   ]
  },
  {
   "cell_type": "code",
   "execution_count": 24,
   "id": "87e7f306",
   "metadata": {},
   "outputs": [
    {
     "data": {
      "text/plain": [
       "[]"
      ]
     },
     "execution_count": 24,
     "metadata": {},
     "output_type": "execute_result"
    }
   ],
   "source": [
    "a[1:1]"
   ]
  },
  {
   "cell_type": "code",
   "execution_count": 25,
   "id": "8a9d54ee",
   "metadata": {},
   "outputs": [
    {
     "data": {
      "text/plain": [
       "['P', 'y', 't']"
      ]
     },
     "execution_count": 25,
     "metadata": {},
     "output_type": "execute_result"
    }
   ],
   "source": [
    "a[:-3]"
   ]
  },
  {
   "cell_type": "code",
   "execution_count": 26,
   "id": "d0c3b8c2",
   "metadata": {},
   "outputs": [
    {
     "data": {
      "text/plain": [
       "['P', 'y', 't', 'h', 'o', 'n']"
      ]
     },
     "execution_count": 26,
     "metadata": {},
     "output_type": "execute_result"
    }
   ],
   "source": [
    "a[:]"
   ]
  },
  {
   "cell_type": "code",
   "execution_count": 27,
   "id": "0170c401",
   "metadata": {},
   "outputs": [
    {
     "data": {
      "text/plain": [
       "['P', 't', 'o']"
      ]
     },
     "execution_count": 27,
     "metadata": {},
     "output_type": "execute_result"
    }
   ],
   "source": [
    "a[0:6:2]"
   ]
  },
  {
   "cell_type": "markdown",
   "id": "9fbc940b",
   "metadata": {},
   "source": [
    "## Operaciones que no modifican una lista\n",
    "* len(l) : Devuelve el número de elementos de la lista l.\n",
    "* min(l) : Devuelve el mínimo elemento de la lista l siempre que los datos sean comparables.\n",
    "* max(l) : Devuelve el máximo elemento de la lista l siempre que los datos sean comparables.\n",
    "* sum(l) : Devuelve la suma de los elementos de la lista l, siempre que los datos se puedan sumar.\n",
    "* dato in l : Devuelve True si el dato dato pertenece a la lista l y False en caso contrario.\n",
    "* l.index(dato) : Devuelve la posición que ocupa en la lista l el primer elemento con valor dato.\n",
    "* l.count(dato) : Devuelve el número de veces que el valor dato está contenido en la lista l.\n",
    "* all(l) : Devuelve True si todos los elementos de la lista l son True y False en caso contrario.\n",
    "* any(l) : Devuelve True si algún elemento de la lista l es True y False en caso contrario."
   ]
  },
  {
   "cell_type": "code",
   "execution_count": 28,
   "id": "bfd9ab65",
   "metadata": {},
   "outputs": [],
   "source": [
    "a = [1, 2, 2, 3]"
   ]
  },
  {
   "cell_type": "code",
   "execution_count": 29,
   "id": "98baf109",
   "metadata": {},
   "outputs": [
    {
     "data": {
      "text/plain": [
       "4"
      ]
     },
     "execution_count": 29,
     "metadata": {},
     "output_type": "execute_result"
    }
   ],
   "source": [
    "len(a)"
   ]
  },
  {
   "cell_type": "code",
   "execution_count": 30,
   "id": "40f40c38",
   "metadata": {},
   "outputs": [
    {
     "data": {
      "text/plain": [
       "1"
      ]
     },
     "execution_count": 30,
     "metadata": {},
     "output_type": "execute_result"
    }
   ],
   "source": [
    "min(a)"
   ]
  },
  {
   "cell_type": "code",
   "execution_count": 31,
   "id": "18b5a7ab",
   "metadata": {},
   "outputs": [
    {
     "data": {
      "text/plain": [
       "3"
      ]
     },
     "execution_count": 31,
     "metadata": {},
     "output_type": "execute_result"
    }
   ],
   "source": [
    "max(a)"
   ]
  },
  {
   "cell_type": "code",
   "execution_count": 32,
   "id": "53ccbdc2",
   "metadata": {},
   "outputs": [
    {
     "data": {
      "text/plain": [
       "8"
      ]
     },
     "execution_count": 32,
     "metadata": {},
     "output_type": "execute_result"
    }
   ],
   "source": [
    "sum(a)"
   ]
  },
  {
   "cell_type": "code",
   "execution_count": 33,
   "id": "87d505a4",
   "metadata": {},
   "outputs": [
    {
     "data": {
      "text/plain": [
       "True"
      ]
     },
     "execution_count": 33,
     "metadata": {},
     "output_type": "execute_result"
    }
   ],
   "source": [
    "3 in a"
   ]
  },
  {
   "cell_type": "code",
   "execution_count": 34,
   "id": "cf9ecaba",
   "metadata": {},
   "outputs": [
    {
     "data": {
      "text/plain": [
       "1"
      ]
     },
     "execution_count": 34,
     "metadata": {},
     "output_type": "execute_result"
    }
   ],
   "source": [
    "a.index(2)"
   ]
  },
  {
   "cell_type": "code",
   "execution_count": 35,
   "id": "9f7f49b2",
   "metadata": {},
   "outputs": [
    {
     "data": {
      "text/plain": [
       "2"
      ]
     },
     "execution_count": 35,
     "metadata": {},
     "output_type": "execute_result"
    }
   ],
   "source": [
    "a.count(2)"
   ]
  },
  {
   "cell_type": "code",
   "execution_count": 36,
   "id": "1be70d81",
   "metadata": {},
   "outputs": [
    {
     "data": {
      "text/plain": [
       "True"
      ]
     },
     "execution_count": 36,
     "metadata": {},
     "output_type": "execute_result"
    }
   ],
   "source": [
    "all(a)"
   ]
  },
  {
   "cell_type": "code",
   "execution_count": 44,
   "id": "69d25004",
   "metadata": {},
   "outputs": [
    {
     "data": {
      "text/plain": [
       "False"
      ]
     },
     "execution_count": 44,
     "metadata": {},
     "output_type": "execute_result"
    }
   ],
   "source": [
    "any([1>2])"
   ]
  },
  {
   "cell_type": "markdown",
   "id": "15b9a872",
   "metadata": {},
   "source": [
    "## Operaciones que modifican una lista\n",
    "* l1 + l2 : Crea una nueva lista concatenan los elementos de la listas l1 y l2.\n",
    "* l.append(dato) : Añade dato al final de la lista l.\n",
    "* l.extend(sequencia) : Añade los datos de sequencia al final de la lista l.\n",
    "* l.insert(índice, dato) : Inserta dato en la posición índice de la lista l y desplaza los elementos una posición a partir de la posición índice.\n",
    "* l.remove(dato) : Elimina el primer elemento con valor dato en la lista l y desplaza los que están por detrás de él una posición hacia delante.\n",
    "* l.pop([índice]) : Devuelve el dato en la posición índice y lo elimina de la lista l, desplazando los elementos por detrás de él una posición hacia delante.\n",
    "* l.sort() : Ordena los elementos de la lista l de acuerdo al orden predefinido, siempre que los elementos sean comparables.\n",
    "* l.reverse() : invierte el orden de los elementos de la lista l."
   ]
  },
  {
   "cell_type": "code",
   "execution_count": 8,
   "id": "a5f4a842",
   "metadata": {},
   "outputs": [],
   "source": [
    "a = [1, 3]"
   ]
  },
  {
   "cell_type": "code",
   "execution_count": 9,
   "id": "3a2b8755",
   "metadata": {},
   "outputs": [],
   "source": [
    "b = [2 , 4, 6]"
   ]
  },
  {
   "cell_type": "code",
   "execution_count": 10,
   "id": "9ab36c28",
   "metadata": {},
   "outputs": [],
   "source": [
    "a.append(5)"
   ]
  },
  {
   "cell_type": "code",
   "execution_count": 11,
   "id": "f005330b",
   "metadata": {},
   "outputs": [
    {
     "data": {
      "text/plain": [
       "[1, 3, 5]"
      ]
     },
     "execution_count": 11,
     "metadata": {},
     "output_type": "execute_result"
    }
   ],
   "source": [
    "a"
   ]
  },
  {
   "cell_type": "code",
   "execution_count": 49,
   "id": "1177a28b",
   "metadata": {},
   "outputs": [],
   "source": [
    "a.remove(3)"
   ]
  },
  {
   "cell_type": "code",
   "execution_count": 50,
   "id": "0589ab3e",
   "metadata": {},
   "outputs": [
    {
     "data": {
      "text/plain": [
       "[1, 5]"
      ]
     },
     "execution_count": 50,
     "metadata": {},
     "output_type": "execute_result"
    }
   ],
   "source": [
    "a"
   ]
  },
  {
   "cell_type": "code",
   "execution_count": 51,
   "id": "3c96f457",
   "metadata": {},
   "outputs": [],
   "source": [
    "a.insert(1, 3)"
   ]
  },
  {
   "cell_type": "code",
   "execution_count": 52,
   "id": "c1858484",
   "metadata": {},
   "outputs": [
    {
     "data": {
      "text/plain": [
       "[1, 3, 5]"
      ]
     },
     "execution_count": 52,
     "metadata": {},
     "output_type": "execute_result"
    }
   ],
   "source": [
    "a"
   ]
  },
  {
   "cell_type": "code",
   "execution_count": 11,
   "id": "b721ea08",
   "metadata": {},
   "outputs": [
    {
     "data": {
      "text/plain": [
       "6"
      ]
     },
     "execution_count": 11,
     "metadata": {},
     "output_type": "execute_result"
    }
   ],
   "source": [
    "b.pop()"
   ]
  },
  {
   "cell_type": "code",
   "execution_count": 12,
   "id": "ff685ecd",
   "metadata": {},
   "outputs": [
    {
     "data": {
      "text/plain": [
       "[2, 4]"
      ]
     },
     "execution_count": 12,
     "metadata": {},
     "output_type": "execute_result"
    }
   ],
   "source": [
    "b"
   ]
  },
  {
   "cell_type": "code",
   "execution_count": 54,
   "id": "55f3d332",
   "metadata": {},
   "outputs": [],
   "source": [
    "c = a + b"
   ]
  },
  {
   "cell_type": "code",
   "execution_count": 55,
   "id": "d64ea472",
   "metadata": {},
   "outputs": [
    {
     "data": {
      "text/plain": [
       "[1, 3, 5, 2, 4]"
      ]
     },
     "execution_count": 55,
     "metadata": {},
     "output_type": "execute_result"
    }
   ],
   "source": [
    "c    "
   ]
  },
  {
   "cell_type": "code",
   "execution_count": 56,
   "id": "25145c1a",
   "metadata": {},
   "outputs": [],
   "source": [
    "c.sort()"
   ]
  },
  {
   "cell_type": "code",
   "execution_count": 57,
   "id": "6f8d6567",
   "metadata": {},
   "outputs": [
    {
     "data": {
      "text/plain": [
       "[1, 2, 3, 4, 5]"
      ]
     },
     "execution_count": 57,
     "metadata": {},
     "output_type": "execute_result"
    }
   ],
   "source": [
    "c"
   ]
  },
  {
   "cell_type": "code",
   "execution_count": 58,
   "id": "b29b8208",
   "metadata": {},
   "outputs": [],
   "source": [
    "c.reverse()"
   ]
  },
  {
   "cell_type": "code",
   "execution_count": 59,
   "id": "46f5132e",
   "metadata": {},
   "outputs": [
    {
     "data": {
      "text/plain": [
       "[5, 4, 3, 2, 1]"
      ]
     },
     "execution_count": 59,
     "metadata": {},
     "output_type": "execute_result"
    }
   ],
   "source": [
    "c"
   ]
  },
  {
   "cell_type": "markdown",
   "id": "da226978",
   "metadata": {},
   "source": [
    "## Copia de listas\n",
    "Existen dos formas de copiar listas:\n",
    "\n",
    "* Copia por referencia l1 = l2: Asocia la la variable l1 la misma lista que tiene asociada la variable l2, es decir, ambas variables apuntan a la misma dirección de memoria. Cualquier cambio que hagamos a través de l1 o l2 afectará a la misma lista.\n",
    "* Copia por valor l1 = list(l2): Crea una copia de la lista asociada a l2 en una dirección de memoria diferente y se la asocia a l1. Las variables apuntan a direcciones de memoria diferentes que contienen los mismos datos. Cualquier cambio que hagamos a través de l1 no afectará a la lista de l2 y viceversa."
   ]
  },
  {
   "cell_type": "code",
   "execution_count": 60,
   "id": "76fa53b3",
   "metadata": {},
   "outputs": [],
   "source": [
    "a = [1, 2, 3]"
   ]
  },
  {
   "cell_type": "code",
   "execution_count": 61,
   "id": "8c161e7f",
   "metadata": {},
   "outputs": [],
   "source": [
    "# copia por referencia\n",
    "b = a"
   ]
  },
  {
   "cell_type": "code",
   "execution_count": 62,
   "id": "9e029a94",
   "metadata": {},
   "outputs": [
    {
     "data": {
      "text/plain": [
       "[1, 2, 3]"
      ]
     },
     "execution_count": 62,
     "metadata": {},
     "output_type": "execute_result"
    }
   ],
   "source": [
    "b"
   ]
  },
  {
   "cell_type": "code",
   "execution_count": 63,
   "id": "b4635385",
   "metadata": {},
   "outputs": [],
   "source": [
    "b.remove(2)"
   ]
  },
  {
   "cell_type": "code",
   "execution_count": 64,
   "id": "6e5c6faf",
   "metadata": {},
   "outputs": [
    {
     "data": {
      "text/plain": [
       "[1, 3]"
      ]
     },
     "execution_count": 64,
     "metadata": {},
     "output_type": "execute_result"
    }
   ],
   "source": [
    "b"
   ]
  },
  {
   "cell_type": "code",
   "execution_count": 65,
   "id": "c686f32b",
   "metadata": {},
   "outputs": [
    {
     "data": {
      "text/plain": [
       "[1, 3]"
      ]
     },
     "execution_count": 65,
     "metadata": {},
     "output_type": "execute_result"
    }
   ],
   "source": [
    "a"
   ]
  },
  {
   "cell_type": "code",
   "execution_count": 66,
   "id": "9a6e022d",
   "metadata": {},
   "outputs": [],
   "source": [
    "a = [1, 2, 3]"
   ]
  },
  {
   "cell_type": "code",
   "execution_count": 67,
   "id": "b0ad5752",
   "metadata": {},
   "outputs": [],
   "source": [
    "# copia por referencia\n",
    "b = list(a)"
   ]
  },
  {
   "cell_type": "code",
   "execution_count": 68,
   "id": "27274df7",
   "metadata": {},
   "outputs": [
    {
     "data": {
      "text/plain": [
       "[1, 2, 3]"
      ]
     },
     "execution_count": 68,
     "metadata": {},
     "output_type": "execute_result"
    }
   ],
   "source": [
    "b"
   ]
  },
  {
   "cell_type": "code",
   "execution_count": 69,
   "id": "028600fb",
   "metadata": {},
   "outputs": [],
   "source": [
    "b.remove(2)"
   ]
  },
  {
   "cell_type": "code",
   "execution_count": 70,
   "id": "00a23a67",
   "metadata": {},
   "outputs": [
    {
     "data": {
      "text/plain": [
       "[1, 3]"
      ]
     },
     "execution_count": 70,
     "metadata": {},
     "output_type": "execute_result"
    }
   ],
   "source": [
    "b"
   ]
  },
  {
   "cell_type": "code",
   "execution_count": 71,
   "id": "399c49bd",
   "metadata": {},
   "outputs": [
    {
     "data": {
      "text/plain": [
       "[1, 2, 3]"
      ]
     },
     "execution_count": 71,
     "metadata": {},
     "output_type": "execute_result"
    }
   ],
   "source": [
    "a"
   ]
  },
  {
   "cell_type": "markdown",
   "id": "74cfe66e",
   "metadata": {},
   "source": [
    "# Tuplas\n",
    "Una tupla es una secuencias ordenadas de objetos de distintos tipos.\n",
    "\n",
    "Se construyen poniendo los elementos entre corchetes ( ) separados por comas.\n",
    "\n",
    "Se caracterizan por:\n",
    "\n",
    "* Tienen orden.\n",
    "* Pueden contener elementos de distintos tipos.\n",
    "* Son inmutables, es decir, no pueden alterarse durante la ejecución de un programa.\n",
    "Se usan habitualmente para representar colecciones de datos una determinada estructura semántica, como por ejemplo un vector o una matriz."
   ]
  },
  {
   "cell_type": "code",
   "execution_count": 72,
   "id": "63abfe6f",
   "metadata": {},
   "outputs": [
    {
     "data": {
      "text/plain": [
       "tuple"
      ]
     },
     "execution_count": 72,
     "metadata": {},
     "output_type": "execute_result"
    }
   ],
   "source": [
    "# Tupla vacía\n",
    "type(())"
   ]
  },
  {
   "cell_type": "code",
   "execution_count": 73,
   "id": "a945a23f",
   "metadata": {},
   "outputs": [
    {
     "data": {
      "text/plain": [
       "(1, 'dos', True)"
      ]
     },
     "execution_count": 73,
     "metadata": {},
     "output_type": "execute_result"
    }
   ],
   "source": [
    "# Tupla con elementos de distintos tipos\n",
    "(1, \"dos\", True)"
   ]
  },
  {
   "cell_type": "code",
   "execution_count": 74,
   "id": "0c883d5d",
   "metadata": {},
   "outputs": [
    {
     "data": {
      "text/plain": [
       "(1, 2, 3)"
      ]
     },
     "execution_count": 74,
     "metadata": {},
     "output_type": "execute_result"
    }
   ],
   "source": [
    "# Vector\n",
    "(1, 2, 3)"
   ]
  },
  {
   "cell_type": "code",
   "execution_count": 75,
   "id": "9dfdccf6",
   "metadata": {},
   "outputs": [
    {
     "data": {
      "text/plain": [
       "((1, 2, 3), (4, 5, 6))"
      ]
     },
     "execution_count": 75,
     "metadata": {},
     "output_type": "execute_result"
    }
   ],
   "source": [
    "# Matriz\n",
    "((1, 2, 3), (4, 5, 6))"
   ]
  },
  {
   "cell_type": "markdown",
   "id": "eaddcb8f",
   "metadata": {},
   "source": [
    "## Creación de tuplas mediante la función tuple()\n",
    "Otra forma de crear tuplas es mediante la función tuple().\n",
    "\n",
    "* tuple(c) : Crea una tupla con los elementos de la secuencia o colección c.\n",
    "Se pueden indicar los elementos separados por comas, mediante una cadena, o mediante una colección de elementos iterable."
   ]
  },
  {
   "cell_type": "code",
   "execution_count": 76,
   "id": "0de4bfb1",
   "metadata": {},
   "outputs": [
    {
     "data": {
      "text/plain": [
       "()"
      ]
     },
     "execution_count": 76,
     "metadata": {},
     "output_type": "execute_result"
    }
   ],
   "source": [
    "tuple()"
   ]
  },
  {
   "cell_type": "code",
   "execution_count": 79,
   "id": "823d5eae",
   "metadata": {},
   "outputs": [
    {
     "data": {
      "text/plain": [
       "('P', 'y', 't', 'h', 'o', 'n')"
      ]
     },
     "execution_count": 79,
     "metadata": {},
     "output_type": "execute_result"
    }
   ],
   "source": [
    "tuple(\"Python\")"
   ]
  },
  {
   "cell_type": "code",
   "execution_count": 80,
   "id": "4c4a5ae2",
   "metadata": {},
   "outputs": [
    {
     "data": {
      "text/plain": [
       "(1, 2, 3)"
      ]
     },
     "execution_count": 80,
     "metadata": {},
     "output_type": "execute_result"
    }
   ],
   "source": [
    "tuple([1, 2, 3])"
   ]
  },
  {
   "cell_type": "markdown",
   "id": "d4d2d88e",
   "metadata": {},
   "source": [
    "## Operaciones con tuplas\n",
    "El acceso a los elementos de una tupla se realiza del mismo modo que en las listas. También se pueden obtener subtuplas de la misma manera que las sublistas.\n",
    "\n",
    "Las operaciones de listas que no modifican la lista también son aplicables a las tuplas."
   ]
  },
  {
   "cell_type": "code",
   "execution_count": 81,
   "id": "88ba4c2c",
   "metadata": {},
   "outputs": [],
   "source": [
    "a = (1, 2, 3)"
   ]
  },
  {
   "cell_type": "code",
   "execution_count": 82,
   "id": "b9863f0c",
   "metadata": {},
   "outputs": [
    {
     "data": {
      "text/plain": [
       "2"
      ]
     },
     "execution_count": 82,
     "metadata": {},
     "output_type": "execute_result"
    }
   ],
   "source": [
    "a[1]"
   ]
  },
  {
   "cell_type": "code",
   "execution_count": 83,
   "id": "70cc08a5",
   "metadata": {},
   "outputs": [
    {
     "data": {
      "text/plain": [
       "3"
      ]
     },
     "execution_count": 83,
     "metadata": {},
     "output_type": "execute_result"
    }
   ],
   "source": [
    "len(a)"
   ]
  },
  {
   "cell_type": "code",
   "execution_count": 84,
   "id": "57936b6f",
   "metadata": {},
   "outputs": [
    {
     "data": {
      "text/plain": [
       "2"
      ]
     },
     "execution_count": 84,
     "metadata": {},
     "output_type": "execute_result"
    }
   ],
   "source": [
    "a.index(3)"
   ]
  },
  {
   "cell_type": "code",
   "execution_count": 85,
   "id": "ca38ef53",
   "metadata": {},
   "outputs": [
    {
     "data": {
      "text/plain": [
       "False"
      ]
     },
     "execution_count": 85,
     "metadata": {},
     "output_type": "execute_result"
    }
   ],
   "source": [
    "0 in a"
   ]
  },
  {
   "cell_type": "code",
   "execution_count": 86,
   "id": "e24fcc58",
   "metadata": {},
   "outputs": [],
   "source": [
    "b = ((1, 2, 3), (4, 5, 6))"
   ]
  },
  {
   "cell_type": "code",
   "execution_count": 87,
   "id": "aac3d9cb",
   "metadata": {},
   "outputs": [
    {
     "data": {
      "text/plain": [
       "(4, 5, 6)"
      ]
     },
     "execution_count": 87,
     "metadata": {},
     "output_type": "execute_result"
    }
   ],
   "source": [
    "b[1]"
   ]
  },
  {
   "cell_type": "code",
   "execution_count": 88,
   "id": "25cf33d1",
   "metadata": {},
   "outputs": [
    {
     "data": {
      "text/plain": [
       "6"
      ]
     },
     "execution_count": 88,
     "metadata": {},
     "output_type": "execute_result"
    }
   ],
   "source": [
    "b[1][2]"
   ]
  },
  {
   "cell_type": "markdown",
   "id": "fe2fc1b8",
   "metadata": {},
   "source": [
    "# Conjuntos\n",
    "Al igual que las listas, los sets (o conjuntos) también sirven para almacenar varios datos en una sola variable. A diferencia de las listas, los sets son no ordenados y sin índices, por lo que no podemos acceder a un elemento por su posición. También son no modificables, por lo que al contrario que en las listas, una vez hemos añadido un nuevo elemento no podemos cambiar su valor. Tampoco admiten elementos repetidos.\n",
    "\n",
    "Si hay tantas cosas que tenían las listas pero de las que carecen los conjuntos, ¿por qué querríamos a utilizarlos? Ya que aunque parezca que las listas son más potentes, hay muchos casos en los que los sets son más deseables.\n",
    "\n",
    "Primero veamos como crear un set. En lugar de utilizar corchetes como en las listas ([ ]), utilizamos llaves ({ })."
   ]
  },
  {
   "cell_type": "code",
   "execution_count": 89,
   "id": "2e071b57",
   "metadata": {},
   "outputs": [],
   "source": [
    "estudiantes = {'Jaimito', 'Juan', 'Carla', 'Valeria', 'Irene'}"
   ]
  },
  {
   "cell_type": "markdown",
   "id": "3aafca43",
   "metadata": {},
   "source": [
    "Los conjuntos no admiten elementos repetidos, por lo que si hubiera un caso en la universidad en el que no pudiéramos tener estudiantes con el mismo nombre, los sets serían la mejor opción, y su uso sería tan sencillo como esto."
   ]
  },
  {
   "cell_type": "code",
   "execution_count": 90,
   "id": "338af3ec",
   "metadata": {},
   "outputs": [
    {
     "name": "stdout",
     "output_type": "stream",
     "text": [
      "{'Carla', 'Valeria', 'Jaimito', 'Juan', 'Irene'}\n"
     ]
    }
   ],
   "source": [
    "estudiantes = {'Jaimito', 'Juan', 'Carla', 'Valeria', 'Irene', 'Juan'}\n",
    "print(estudiantes)"
   ]
  },
  {
   "cell_type": "markdown",
   "id": "d82fd272",
   "metadata": {},
   "source": [
    "Añadir elementos a un conjunto es muy sencillo, sólo tenemos que usar el método add. Este método añade el elemento sólo si no existe previamente en el conjunto."
   ]
  },
  {
   "cell_type": "code",
   "execution_count": 92,
   "id": "0e8b15ef",
   "metadata": {},
   "outputs": [
    {
     "name": "stdout",
     "output_type": "stream",
     "text": [
      "{'Carla', 'Paco', 'Valeria', 'Jaimito', 'Juan', 'Irene'}\n"
     ]
    }
   ],
   "source": [
    "estudiantes.add('Paco')\n",
    "print(estudiantes)"
   ]
  },
  {
   "cell_type": "markdown",
   "id": "26507f85",
   "metadata": {},
   "source": [
    "# Diccionarios\n",
    "Un diccionario es una colección de pares formados por una clave y un valor asociado a la clave.\n",
    "\n",
    "Se construyen poniendo los pares entre llaves { } separados por comas, y separando la clave del valor con dos puntos :.\n",
    "\n",
    "Se caracterizan por:\n",
    "* No tienen orden.\n",
    "* Pueden contener elementos de distintos tipos.\n",
    "* Son mutables, es decir, pueden alterarse durante la ejecución de un programa.\n",
    "* Las claves son únicas, es decir, no pueden repetirse en un mismo diccionario, y pueden ser de cualquier tipo de datos inmutable."
   ]
  },
  {
   "cell_type": "code",
   "execution_count": 93,
   "id": "3439f054",
   "metadata": {},
   "outputs": [
    {
     "data": {
      "text/plain": [
       "dict"
      ]
     },
     "execution_count": 93,
     "metadata": {},
     "output_type": "execute_result"
    }
   ],
   "source": [
    "# Diccionario vacío\n",
    "type({})"
   ]
  },
  {
   "cell_type": "code",
   "execution_count": 94,
   "id": "32cfd447",
   "metadata": {},
   "outputs": [
    {
     "data": {
      "text/plain": [
       "{'nombre': 'Alfredo', 'despacho': 218, 'email': 'asalber@ceu.es'}"
      ]
     },
     "execution_count": 94,
     "metadata": {},
     "output_type": "execute_result"
    }
   ],
   "source": [
    "# Diccionario con elementos de distintos tipos\n",
    "{'nombre':'Alfredo', 'despacho': 218, 'email':'asalber@ceu.es'}"
   ]
  },
  {
   "cell_type": "code",
   "execution_count": 95,
   "id": "ce554303",
   "metadata": {},
   "outputs": [
    {
     "data": {
      "text/plain": [
       "{'nombre_completo': {'nombre': 'Alfredo', 'Apellidos': 'Sánchez Alberca'}}"
      ]
     },
     "execution_count": 95,
     "metadata": {},
     "output_type": "execute_result"
    }
   ],
   "source": [
    "# Diccionarios anidados\n",
    "{'nombre_completo':{'nombre': 'Alfredo', 'Apellidos': 'Sánchez Alberca'}}"
   ]
  },
  {
   "cell_type": "markdown",
   "id": "1efc1025",
   "metadata": {},
   "source": [
    "## Acceso a los elementos de un diccionario\n",
    "* d[clave] devuelve el valor del diccionario d asociado a la clave clave. Si en el diccionario no existe esa clave devuelve un error.\n",
    "* d.get(clave, valor) devuelve el valor del diccionario d asociado a la clave clave. Si en el diccionario no existe esa clave devuelve valor, y si no se especifica un valor por defecto devuelve None."
   ]
  },
  {
   "cell_type": "code",
   "execution_count": 96,
   "id": "45c92aee",
   "metadata": {},
   "outputs": [],
   "source": [
    "a = {'nombre':'Alfredo', 'despacho': 218, 'email':'asalber@ceu.es'}"
   ]
  },
  {
   "cell_type": "code",
   "execution_count": 97,
   "id": "3508a276",
   "metadata": {},
   "outputs": [
    {
     "data": {
      "text/plain": [
       "'Alfredo'"
      ]
     },
     "execution_count": 97,
     "metadata": {},
     "output_type": "execute_result"
    }
   ],
   "source": [
    "a['nombre']"
   ]
  },
  {
   "cell_type": "code",
   "execution_count": 98,
   "id": "8805ed10",
   "metadata": {},
   "outputs": [],
   "source": [
    "a['despacho'] = 210"
   ]
  },
  {
   "cell_type": "code",
   "execution_count": 99,
   "id": "3c441d50",
   "metadata": {},
   "outputs": [
    {
     "data": {
      "text/plain": [
       "{'nombre': 'Alfredo', 'despacho': 210, 'email': 'asalber@ceu.es'}"
      ]
     },
     "execution_count": 99,
     "metadata": {},
     "output_type": "execute_result"
    }
   ],
   "source": [
    "a"
   ]
  },
  {
   "cell_type": "code",
   "execution_count": 100,
   "id": "6a9606f1",
   "metadata": {},
   "outputs": [
    {
     "data": {
      "text/plain": [
       "'asalber@ceu.es'"
      ]
     },
     "execution_count": 100,
     "metadata": {},
     "output_type": "execute_result"
    }
   ],
   "source": [
    "a.get('email')"
   ]
  },
  {
   "cell_type": "code",
   "execution_count": 101,
   "id": "4776996e",
   "metadata": {},
   "outputs": [
    {
     "data": {
      "text/plain": [
       "'CEU'"
      ]
     },
     "execution_count": 101,
     "metadata": {},
     "output_type": "execute_result"
    }
   ],
   "source": [
    "a.get('universidad', 'CEU')"
   ]
  },
  {
   "cell_type": "markdown",
   "id": "0850ac20",
   "metadata": {},
   "source": [
    "## Operaciones que no modifican un diccionario\n",
    "* len(d) : Devuelve el número de elementos del diccionario d.\n",
    "* min(d) : Devuelve la mínima clave del diccionario d siempre que las claves sean comparables.\n",
    "* max(d) : Devuelve la máxima clave del diccionario d siempre que las claves sean comparables.\n",
    "* sum(d) : Devuelve la suma de las claves del diccionario d, siempre que las claves se puedan sumar.\n",
    "* clave in d : Devuelve True si la clave clave pertenece al diccionario d y False en caso contrario.\n",
    "* d.keys() : Devuelve un iterador sobre las claves de un diccionario.\n",
    "* d.values() : Devuelve un iterador sobre los valores de un diccionario.\n",
    "* d.items() : Devuelve un iterador sobre los pares clave-valor de un diccionario."
   ]
  },
  {
   "cell_type": "code",
   "execution_count": 102,
   "id": "16a3db64",
   "metadata": {},
   "outputs": [],
   "source": [
    "a = {'nombre':'Alfredo', 'despacho': 218, 'email':'asalber@ceu.es'}"
   ]
  },
  {
   "cell_type": "code",
   "execution_count": 103,
   "id": "596da80d",
   "metadata": {},
   "outputs": [
    {
     "data": {
      "text/plain": [
       "3"
      ]
     },
     "execution_count": 103,
     "metadata": {},
     "output_type": "execute_result"
    }
   ],
   "source": [
    "len(a)"
   ]
  },
  {
   "cell_type": "code",
   "execution_count": 104,
   "id": "330605de",
   "metadata": {},
   "outputs": [
    {
     "data": {
      "text/plain": [
       "'despacho'"
      ]
     },
     "execution_count": 104,
     "metadata": {},
     "output_type": "execute_result"
    }
   ],
   "source": [
    "min(a)"
   ]
  },
  {
   "cell_type": "code",
   "execution_count": 105,
   "id": "0b16ade0",
   "metadata": {},
   "outputs": [
    {
     "data": {
      "text/plain": [
       "True"
      ]
     },
     "execution_count": 105,
     "metadata": {},
     "output_type": "execute_result"
    }
   ],
   "source": [
    "'email' in a"
   ]
  },
  {
   "cell_type": "code",
   "execution_count": 106,
   "id": "4410dedc",
   "metadata": {},
   "outputs": [
    {
     "data": {
      "text/plain": [
       "dict_keys(['nombre', 'despacho', 'email'])"
      ]
     },
     "execution_count": 106,
     "metadata": {},
     "output_type": "execute_result"
    }
   ],
   "source": [
    "a.keys()"
   ]
  },
  {
   "cell_type": "code",
   "execution_count": 107,
   "id": "cbcef19b",
   "metadata": {},
   "outputs": [
    {
     "data": {
      "text/plain": [
       "dict_values(['Alfredo', 218, 'asalber@ceu.es'])"
      ]
     },
     "execution_count": 107,
     "metadata": {},
     "output_type": "execute_result"
    }
   ],
   "source": [
    "a.values()"
   ]
  },
  {
   "cell_type": "code",
   "execution_count": 108,
   "id": "3bb81d53",
   "metadata": {},
   "outputs": [
    {
     "data": {
      "text/plain": [
       "dict_items([('nombre', 'Alfredo'), ('despacho', 218), ('email', 'asalber@ceu.es')])"
      ]
     },
     "execution_count": 108,
     "metadata": {},
     "output_type": "execute_result"
    }
   ],
   "source": [
    "a.items()"
   ]
  },
  {
   "cell_type": "markdown",
   "id": "fc70ac8b",
   "metadata": {},
   "source": [
    "## Operaciones que modifican un diccionario\n",
    "* d[clave] = valor : Añade al diccionario d el par formado por la clave clave y el valor valor.\n",
    "* d.update(d2). Añade los pares del diccionario d2 al diccionario d.\n",
    "* d.pop(clave, alternativo) : Devuelve del valor asociado a la clave clave del diccionario d y lo elimina del diccionario. Si la clave no está devuelve el valor alternativo.\n",
    "* d.popitem() : Devuelve la tupla formada por la clave y el valor del último par añadido al diccionario d y lo elimina del diccionario.\n",
    "* del d[clave] : Elimina del diccionario d el par con la clave clave.\n",
    "* d.clear() : Elimina todos los pares del diccionario d de manera que se queda vacío."
   ]
  },
  {
   "cell_type": "code",
   "execution_count": 109,
   "id": "3642b47b",
   "metadata": {},
   "outputs": [],
   "source": [
    "a = {'nombre':'Alfredo', 'despacho': 218, 'email':'asalber@ceu.es'}"
   ]
  },
  {
   "cell_type": "code",
   "execution_count": 110,
   "id": "ed8ba612",
   "metadata": {},
   "outputs": [],
   "source": [
    "a['universidad'] = 'CEU'"
   ]
  },
  {
   "cell_type": "code",
   "execution_count": 111,
   "id": "17e689b7",
   "metadata": {},
   "outputs": [
    {
     "data": {
      "text/plain": [
       "{'nombre': 'Alfredo',\n",
       " 'despacho': 218,\n",
       " 'email': 'asalber@ceu.es',\n",
       " 'universidad': 'CEU'}"
      ]
     },
     "execution_count": 111,
     "metadata": {},
     "output_type": "execute_result"
    }
   ],
   "source": [
    "a"
   ]
  },
  {
   "cell_type": "code",
   "execution_count": 112,
   "id": "51f0b302",
   "metadata": {},
   "outputs": [
    {
     "data": {
      "text/plain": [
       "218"
      ]
     },
     "execution_count": 112,
     "metadata": {},
     "output_type": "execute_result"
    }
   ],
   "source": [
    "a.pop('despacho')"
   ]
  },
  {
   "cell_type": "code",
   "execution_count": 113,
   "id": "a0a923c7",
   "metadata": {},
   "outputs": [
    {
     "data": {
      "text/plain": [
       "{'nombre': 'Alfredo', 'email': 'asalber@ceu.es', 'universidad': 'CEU'}"
      ]
     },
     "execution_count": 113,
     "metadata": {},
     "output_type": "execute_result"
    }
   ],
   "source": [
    "a"
   ]
  },
  {
   "cell_type": "code",
   "execution_count": 114,
   "id": "87ef32cc",
   "metadata": {},
   "outputs": [
    {
     "data": {
      "text/plain": [
       "('universidad', 'CEU')"
      ]
     },
     "execution_count": 114,
     "metadata": {},
     "output_type": "execute_result"
    }
   ],
   "source": [
    "a.popitem()"
   ]
  },
  {
   "cell_type": "code",
   "execution_count": 115,
   "id": "215ea3d5",
   "metadata": {},
   "outputs": [
    {
     "data": {
      "text/plain": [
       "{'nombre': 'Alfredo', 'email': 'asalber@ceu.es'}"
      ]
     },
     "execution_count": 115,
     "metadata": {},
     "output_type": "execute_result"
    }
   ],
   "source": [
    "a"
   ]
  },
  {
   "cell_type": "code",
   "execution_count": 116,
   "id": "d2e6d9af",
   "metadata": {},
   "outputs": [],
   "source": [
    "del a['email']"
   ]
  },
  {
   "cell_type": "code",
   "execution_count": 117,
   "id": "b20f5b8b",
   "metadata": {},
   "outputs": [
    {
     "data": {
      "text/plain": [
       "{'nombre': 'Alfredo'}"
      ]
     },
     "execution_count": 117,
     "metadata": {},
     "output_type": "execute_result"
    }
   ],
   "source": [
    "a"
   ]
  },
  {
   "cell_type": "code",
   "execution_count": 118,
   "id": "3273d99e",
   "metadata": {},
   "outputs": [],
   "source": [
    "a.clear()"
   ]
  },
  {
   "cell_type": "code",
   "execution_count": 119,
   "id": "a1a8009d",
   "metadata": {},
   "outputs": [
    {
     "data": {
      "text/plain": [
       "{}"
      ]
     },
     "execution_count": 119,
     "metadata": {},
     "output_type": "execute_result"
    }
   ],
   "source": [
    "a"
   ]
  },
  {
   "cell_type": "markdown",
   "id": "960e8fee",
   "metadata": {},
   "source": [
    "## Copia de diccionarios\n",
    "Existen dos formas de copiar diccionarios:\n",
    "\n",
    "* Copia por referencia d1 = d2: Asocia la la variable d1 el mismo diccionario que tiene asociado la variable d2, es decir, ambas variables apuntan a la misma dirección de memoria. Cualquier cambio que hagamos a través de l1 o l2 afectará al mismo diccionario.\n",
    "* Copia por valor d1 = list(d2): Crea una copia del diccionario asociado a d2 en una dirección de memoria diferente y se la asocia a d1. Las variables apuntan a direcciones de memoria diferentes que contienen los mismos datos. Cualquier cambio que hagamos a través de l1 no afectará al diccionario de l2 y viceversa."
   ]
  },
  {
   "cell_type": "code",
   "execution_count": 120,
   "id": "61052296",
   "metadata": {},
   "outputs": [],
   "source": [
    "a = {1:'A', 2:'B', 3:'C'}"
   ]
  },
  {
   "cell_type": "code",
   "execution_count": 121,
   "id": "390361c1",
   "metadata": {},
   "outputs": [],
   "source": [
    "# copia por referencia\n",
    "b = a"
   ]
  },
  {
   "cell_type": "code",
   "execution_count": 122,
   "id": "d22d4ed0",
   "metadata": {},
   "outputs": [
    {
     "data": {
      "text/plain": [
       "{1: 'A', 2: 'B', 3: 'C'}"
      ]
     },
     "execution_count": 122,
     "metadata": {},
     "output_type": "execute_result"
    }
   ],
   "source": [
    "b"
   ]
  },
  {
   "cell_type": "code",
   "execution_count": 123,
   "id": "339c3d09",
   "metadata": {},
   "outputs": [
    {
     "data": {
      "text/plain": [
       "'B'"
      ]
     },
     "execution_count": 123,
     "metadata": {},
     "output_type": "execute_result"
    }
   ],
   "source": [
    "b.pop(2)"
   ]
  },
  {
   "cell_type": "code",
   "execution_count": 124,
   "id": "67ba0424",
   "metadata": {},
   "outputs": [
    {
     "data": {
      "text/plain": [
       "{1: 'A', 3: 'C'}"
      ]
     },
     "execution_count": 124,
     "metadata": {},
     "output_type": "execute_result"
    }
   ],
   "source": [
    "b"
   ]
  },
  {
   "cell_type": "code",
   "execution_count": 125,
   "id": "fb0aaa03",
   "metadata": {},
   "outputs": [
    {
     "data": {
      "text/plain": [
       "{1: 'A', 3: 'C'}"
      ]
     },
     "execution_count": 125,
     "metadata": {},
     "output_type": "execute_result"
    }
   ],
   "source": [
    "a"
   ]
  },
  {
   "cell_type": "code",
   "execution_count": 126,
   "id": "88039279",
   "metadata": {},
   "outputs": [],
   "source": [
    "a = {1:'A', 2:'B', 3:'C'}"
   ]
  },
  {
   "cell_type": "code",
   "execution_count": 127,
   "id": "32a0d041",
   "metadata": {},
   "outputs": [],
   "source": [
    "# copia por referencia\n",
    "b = dict(a)"
   ]
  },
  {
   "cell_type": "code",
   "execution_count": 128,
   "id": "e0ab4e36",
   "metadata": {},
   "outputs": [
    {
     "data": {
      "text/plain": [
       "{1: 'A', 2: 'B', 3: 'C'}"
      ]
     },
     "execution_count": 128,
     "metadata": {},
     "output_type": "execute_result"
    }
   ],
   "source": [
    "b"
   ]
  },
  {
   "cell_type": "code",
   "execution_count": 129,
   "id": "6a1540de",
   "metadata": {},
   "outputs": [
    {
     "data": {
      "text/plain": [
       "'B'"
      ]
     },
     "execution_count": 129,
     "metadata": {},
     "output_type": "execute_result"
    }
   ],
   "source": [
    "b.pop(2)"
   ]
  },
  {
   "cell_type": "code",
   "execution_count": 130,
   "id": "80dcafd0",
   "metadata": {},
   "outputs": [
    {
     "data": {
      "text/plain": [
       "{1: 'A', 3: 'C'}"
      ]
     },
     "execution_count": 130,
     "metadata": {},
     "output_type": "execute_result"
    }
   ],
   "source": [
    "b"
   ]
  },
  {
   "cell_type": "code",
   "execution_count": 131,
   "id": "be7e4f3d",
   "metadata": {},
   "outputs": [
    {
     "data": {
      "text/plain": [
       "{1: 'A', 2: 'B', 3: 'C'}"
      ]
     },
     "execution_count": 131,
     "metadata": {},
     "output_type": "execute_result"
    }
   ],
   "source": [
    "a"
   ]
  },
  {
   "cell_type": "code",
   "execution_count": null,
   "id": "9dd4b88b",
   "metadata": {},
   "outputs": [],
   "source": []
  }
 ],
 "metadata": {
  "kernelspec": {
   "display_name": "Python 3 (ipykernel)",
   "language": "python",
   "name": "python3"
  },
  "language_info": {
   "codemirror_mode": {
    "name": "ipython",
    "version": 3
   },
   "file_extension": ".py",
   "mimetype": "text/x-python",
   "name": "python",
   "nbconvert_exporter": "python",
   "pygments_lexer": "ipython3",
   "version": "3.9.12"
  }
 },
 "nbformat": 4,
 "nbformat_minor": 5
}
