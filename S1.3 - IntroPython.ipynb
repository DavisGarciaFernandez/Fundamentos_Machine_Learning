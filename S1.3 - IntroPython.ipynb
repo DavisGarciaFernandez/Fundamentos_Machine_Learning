{
 "cells": [
  {
   "cell_type": "markdown",
   "id": "26c59ca5",
   "metadata": {},
   "source": [
    "<center> <h1>INTRODUCCION A PYTHON</h1> </center>\n",
    "\n",
    "![Hablando](imagenes/hablando.jpg)\n",
    "\n",
    "Las computadoras son dispositivos complejos pero están diseñados para hacer una cosa bien: ejecutar aquello que se les indica. La cuestión es cómo indicar a una computadora lo que queremos que ejecute. Esas indicaciones se llaman técnicamente instrucciones y se expresan en un lenguaje. Podríamos decir que programar consiste en escribir instrucciones para que sean ejecutadas por una computadora. El lenguaje que utilizamos para ello se denomina lenguaje de programación.\n",
    "\n",
    "# Código de la computadora\n",
    "Pero aún seguimos con el problema de cómo hacer que una computadora entienda el lenguaje de programación. A priori podríamos decir que un ordenador sólo entiende un lenguaje muy «simple» denominado **código máquina**. En este lenguaje se utilizan únicamente los símbolos 0 y 1 en representación de los niveles de tensión alto y bajo, que al fin y al cabo, son los estados que puede manejar un circuito digital. Hablamos de **sistema binario**. Si tuviéramos que escribir programas de computadora en este formato sería una tarea ardua, pero afortunadamente se han ido creando con el tiempo lenguajes de programación intermedios que, posteriormente, son convertidos a código máquina.\n",
    "\n",
    "Si intentamos visualizar un programa en código máquina, únicamente obtendríamos una secuencia de ceros y unos:\n",
    "![binario](imagenes/binario.jpg)"
   ]
  },
  {
   "cell_type": "markdown",
   "id": "2897a7f4",
   "metadata": {},
   "source": [
    "# Ensamblador\n",
    "El primer lenguaje de programación que encontramos en esta «escalada» es ensamblador. Veamos un ejemplo de código en ensamblador del típico programa que se escribe por primera vez, el «Hello, World»:\n",
    "\n",
    "![ensamblador](imagenes/ensamblador.jpg)\n",
    "\n",
    "Aunque resulte difícil de creer, lo «único» que hace este programa es mostrar en la pantalla de nuestra pc la frase «Hello, World», pero además teniendo en cuenta que sólo funcionará para una arquitectura x86."
   ]
  },
  {
   "cell_type": "markdown",
   "id": "607036ef",
   "metadata": {},
   "source": [
    "# C\n",
    "Aunque el lenguaje ensamblador nos facilita un poco la tarea de desarrollar programas, sigue siendo bastante complicado ya que las instrucciones son muy específicas y no proporcionan una semántica entendible. Uno de los lenguajes que vino a suplir – en parte – estos obstáculos fue C. Considerado para muchas personas como un referente en cuanto a los lenguajes de programación, permite hacer uso de instrucciones más claras y potentes. El mismo ejemplo anterior del programa «Hello, World» se escribiría así en lenguaje C:\n",
    "\n",
    "![c](imagenes/c.jpg)"
   ]
  },
  {
   "cell_type": "markdown",
   "id": "bead5039",
   "metadata": {},
   "source": [
    "# Python\n",
    "Si seguimos «subiendo» en esta lista de lenguajes de programación, podemos llegar hasta Python. Se dice que es un lenguaje de más alto nivel en el sentido de que sus instrucciones son más entendibles por un humano. Veamos cómo se escribiría el programa «Hello, World» en el lenguaje de programación Python:\n",
    "\n",
    "![python](imagenes/python.jpg)\n",
    "\n",
    "¡Pues así de fácil! Hemos pasado de código máquina (ceros y unos) a código Python en el que se puede entender perfectamente lo que estamos indicando al ordenador. La pregunta que surge es: ¿cómo entiende una máquina lo que tiene que hacer si le pasamos un programa hecho en Python (o cualquier otro lenguaje de alto nivel)? La respuesta es un compilador."
   ]
  },
  {
   "cell_type": "markdown",
   "id": "97f5df4e",
   "metadata": {},
   "source": [
    "# Compiladores\n",
    "Los compiladores son programas que convierten un lenguaje «cualquiera» en código máquina. Se pueden ver como traductores, permitiendo a la máquina interpretar lo que queremos hacer.\n",
    "\n",
    "![compilador](imagenes/compilador.jpg)"
   ]
  },
  {
   "cell_type": "code",
   "execution_count": null,
   "id": "f42bd1d0",
   "metadata": {},
   "outputs": [],
   "source": []
  }
 ],
 "metadata": {
  "kernelspec": {
   "display_name": "Python 3 (ipykernel)",
   "language": "python",
   "name": "python3"
  },
  "language_info": {
   "codemirror_mode": {
    "name": "ipython",
    "version": 3
   },
   "file_extension": ".py",
   "mimetype": "text/x-python",
   "name": "python",
   "nbconvert_exporter": "python",
   "pygments_lexer": "ipython3",
   "version": "3.9.12"
  }
 },
 "nbformat": 4,
 "nbformat_minor": 5
}
