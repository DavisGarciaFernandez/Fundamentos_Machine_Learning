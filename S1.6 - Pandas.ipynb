{
 "cells": [
  {
   "cell_type": "markdown",
   "id": "4159d65c",
   "metadata": {},
   "source": [
    "# La librería Pandas\n",
    "Pandas es una librería de Python especializada en el manejo y análisis de estructuras de datos.\n",
    "\n",
    "Página oficial: https://pandas.pydata.org/\n",
    "\n",
    "![Pandas](imagenes/pandas-logo.png)"
   ]
  },
  {
   "cell_type": "markdown",
   "id": "f440d3e8",
   "metadata": {},
   "source": [
    "Las principales características de esta librería son:\n",
    "\n",
    "* Define nuevas estructuras de datos basadas en los arrays de la librería NumPy pero con nuevas funcionalidades.\n",
    "* Permite leer y escribir fácilmente ficheros en formato CSV, Excel y bases de datos SQL.\n",
    "* Permite acceder a los datos mediante índices o nombres para filas y columnas.\n",
    "* Ofrece métodos para reordenar, dividir y combinar conjuntos de datos.\n",
    "* Permite trabajar con series temporales.\n",
    "* Realiza todas estas operaciones de manera muy eficiente.\n",
    "\n",
    "\n",
    "## Tipos de datos de Pandas\n",
    "Pandas dispone de tres estructuras de datos diferentes:\n",
    "\n",
    "* Series: Estructura de una dimensión.\n",
    "* DataFrame: Estructura de dos dimensiones (tablas).\n",
    "* Panel: Estructura de tres dimensiones (cubos).\n",
    "\n",
    "Estas estructuras se construyen a partir de arrays de la librería NumPy, añadiendo nuevas funcionalidades.\n",
    "\n",
    "\n",
    "## La clase de objetos Series\n",
    "Son estructuras similares a los arrays de una dimensión. Son homogéneas, es decir, sus elementos tienen que ser del mismo tipo, y su tamaño es inmutable, es decir, no se puede cambiar, aunque si su contenido.\n",
    "\n",
    "Dispone de un índice que asocia un nombre a cada elemento del la serie, a través de la cuál se accede al elemento.\n",
    "\n",
    "Ejemplo. La siguiente serie contiene las asignaturas de un curso.\n",
    "\n",
    "\n",
    "![PandasSeries](imagenes/pandas-series.png)\n",
    "\n",
    "\n",
    "## Creación de una serie a partir de una lista\n",
    "* **Series(data=lista, index=indices, dtype=tipo) :** Devuelve un objeto de tipo Series con los datos de la lista lista, las filas especificados en la lista indices y el tipo de datos indicado en tipo. Si no se pasa la lista de índices se utilizan como índices los enteros del 0 al n-1, donde n es el tamaño de la serie. Si no se pasa el tipo de dato se infiere."
   ]
  },
  {
   "cell_type": "code",
   "execution_count": 1,
   "id": "b9674560",
   "metadata": {},
   "outputs": [
    {
     "name": "stdout",
     "output_type": "stream",
     "text": [
      "0     Matemáticas\n",
      "1        Historia\n",
      "2        Economía\n",
      "3    Programación\n",
      "4          Inglés\n",
      "dtype: string\n"
     ]
    }
   ],
   "source": [
    "import pandas as pd\n",
    "s = pd.Series(['Matemáticas', 'Historia', 'Economía', 'Programación', 'Inglés'], dtype='string')\n",
    "print(s)"
   ]
  },
  {
   "cell_type": "markdown",
   "id": "24ed0f16",
   "metadata": {},
   "source": [
    "## Creación de una serie a partir de un diccionario\n",
    "* **Series(data=diccionario, index=indices):** Devuelve un objeto de tipo Series con los valores del diccionario diccionario y las filas especificados en la lista indices. Si no se pasa la lista de índices se utilizan como índices las claves del diccionario."
   ]
  },
  {
   "cell_type": "code",
   "execution_count": 2,
   "id": "9e6cb18c",
   "metadata": {},
   "outputs": [
    {
     "name": "stdout",
     "output_type": "stream",
     "text": [
      "Matemáticas     6.0\n",
      "Economía        4.5\n",
      "Programación    8.5\n",
      "dtype: float64\n"
     ]
    }
   ],
   "source": [
    "import pandas as pd\n",
    "s = pd.Series({'Matemáticas': 6.0,  'Economía': 4.5, 'Programación': 8.5})\n",
    "print(s)"
   ]
  },
  {
   "cell_type": "markdown",
   "id": "9e6ea62b",
   "metadata": {},
   "source": [
    "## Atributos de una serie\n",
    "Existen varias propiedades o métodos para ver las características de una serie.\n",
    "\n",
    "* **s.size :** Devuelve el número de elementos de la serie s.\n",
    "\n",
    "* **s.index :** Devuelve una lista con los nombres de las filas del DataFrame s.\n",
    "\n",
    "* **s.dtype :** Devuelve el tipo de datos de los elementos de la serie s."
   ]
  },
  {
   "cell_type": "code",
   "execution_count": 3,
   "id": "ec4dfc83",
   "metadata": {},
   "outputs": [
    {
     "data": {
      "text/plain": [
       "10"
      ]
     },
     "execution_count": 3,
     "metadata": {},
     "output_type": "execute_result"
    }
   ],
   "source": [
    "import pandas as pd\n",
    "s = pd.Series([1, 2, 2, 3, 3, 3, 4, 4, 4, 4])\n",
    "s.size"
   ]
  },
  {
   "cell_type": "code",
   "execution_count": 4,
   "id": "9ed9ff44",
   "metadata": {},
   "outputs": [
    {
     "data": {
      "text/plain": [
       "RangeIndex(start=0, stop=10, step=1)"
      ]
     },
     "execution_count": 4,
     "metadata": {},
     "output_type": "execute_result"
    }
   ],
   "source": [
    "s.index"
   ]
  },
  {
   "cell_type": "code",
   "execution_count": 5,
   "id": "87ee1873",
   "metadata": {},
   "outputs": [
    {
     "data": {
      "text/plain": [
       "dtype('int64')"
      ]
     },
     "execution_count": 5,
     "metadata": {},
     "output_type": "execute_result"
    }
   ],
   "source": [
    "s.dtype"
   ]
  },
  {
   "cell_type": "markdown",
   "id": "8f194fa5",
   "metadata": {},
   "source": [
    "## Acceso a los elementos de una serie\n",
    "El acceso a los elementos de un objeto del tipo Series puede ser a través de posiciones o través de índices (nombres).\n",
    "\n",
    "### Acceso por posición\n",
    "Se realiza de forma similar a como se accede a los elementos de un array.\n",
    "\n",
    "* **s[i] :** Devuelve el elemento que ocupa la posición i+1 en la serie s.\n",
    "* **s[posiciones]:** Devuelve otra serie con los elementos que ocupan las posiciones de la lista posiciones.\n",
    "\n",
    "### Acceso por índice\n",
    "* **s[nombre] :** Devuelve el elemento con el nombre nombre en el índice.\n",
    "* **s[nombres] :** Devuelve otra serie con los elementos correspondientes a los nombres indicadas en la lista nombres en el índice"
   ]
  },
  {
   "cell_type": "code",
   "execution_count": 8,
   "id": "aba63656",
   "metadata": {},
   "outputs": [
    {
     "data": {
      "text/plain": [
       "Economía        4.5\n",
       "Programación    8.5\n",
       "dtype: float64"
      ]
     },
     "execution_count": 8,
     "metadata": {},
     "output_type": "execute_result"
    }
   ],
   "source": [
    "s = pd.Series({'Matemáticas': 6.0,  'Economía': 4.5, 'Programación': 8.5})\n",
    "s[1:3]"
   ]
  },
  {
   "cell_type": "code",
   "execution_count": 9,
   "id": "c544ff66",
   "metadata": {},
   "outputs": [
    {
     "data": {
      "text/plain": [
       "4.5"
      ]
     },
     "execution_count": 9,
     "metadata": {},
     "output_type": "execute_result"
    }
   ],
   "source": [
    "s['Economía']"
   ]
  },
  {
   "cell_type": "code",
   "execution_count": 10,
   "id": "fa7c8e91",
   "metadata": {},
   "outputs": [
    {
     "data": {
      "text/plain": [
       "Programación    8.5\n",
       "Matemáticas     6.0\n",
       "dtype: float64"
      ]
     },
     "execution_count": 10,
     "metadata": {},
     "output_type": "execute_result"
    }
   ],
   "source": [
    "s[['Programación', 'Matemáticas']]"
   ]
  },
  {
   "cell_type": "markdown",
   "id": "513d6505",
   "metadata": {},
   "source": [
    "## Resumen descriptivo de una serie\n",
    "Las siguientes funciones permiten resumir varios aspectos de una serie:\n",
    "\n",
    "* **s.count() :** Devuelve el número de elementos que no son nulos ni NaN en la serie s.\n",
    "* **s.sum() :** Devuelve la suma de los datos de la serie s cuando los datos son de un tipo numérico, o la concatenación de ellos cuando son del tipo cadena str.\n",
    "* **s.cumsum() :** Devuelve una serie con la suma acumulada de los datos de la serie s cuando los datos son de un tipo numérico.\n",
    "* **s.value_counts() :** Devuelve una serie con la frecuencia (número de repeticiones) de cada valor de la serie s.\n",
    "* **s.min() :** Devuelve el menor de los datos de la serie s.\n",
    "* **s.max() :** Devuelve el mayor de los datos de la serie s.\n",
    "* **s.mean() :** Devuelve la media de los datos de la serie s cuando los datos son de un tipo numérico.\n",
    "* **s.std() :** Devuelve la desviación típica de los datos de la serie s cuando los datos son de un tipo numérico.\n",
    "* **s.describe():** Devuelve una serie con un resumen descriptivo que incluye el número de datos, su suma, el mínimo, el máximo, la media, la desviación típica y los cuartiles."
   ]
  },
  {
   "cell_type": "code",
   "execution_count": 11,
   "id": "315b10ed",
   "metadata": {},
   "outputs": [
    {
     "data": {
      "text/plain": [
       "10"
      ]
     },
     "execution_count": 11,
     "metadata": {},
     "output_type": "execute_result"
    }
   ],
   "source": [
    "import pandas as pd\n",
    "s = pd.Series([1, 1, 1, 1, 2, 2, 2, 3, 3, 4])\n",
    "s.count()"
   ]
  },
  {
   "cell_type": "code",
   "execution_count": 12,
   "id": "e2103f11",
   "metadata": {},
   "outputs": [
    {
     "data": {
      "text/plain": [
       "20"
      ]
     },
     "execution_count": 12,
     "metadata": {},
     "output_type": "execute_result"
    }
   ],
   "source": [
    "s.sum()"
   ]
  },
  {
   "cell_type": "code",
   "execution_count": 13,
   "id": "2de337e2",
   "metadata": {},
   "outputs": [
    {
     "data": {
      "text/plain": [
       "0     1\n",
       "1     2\n",
       "2     3\n",
       "3     4\n",
       "4     6\n",
       "5     8\n",
       "6    10\n",
       "7    13\n",
       "8    16\n",
       "9    20\n",
       "dtype: int64"
      ]
     },
     "execution_count": 13,
     "metadata": {},
     "output_type": "execute_result"
    }
   ],
   "source": [
    "s.cumsum()"
   ]
  },
  {
   "cell_type": "code",
   "execution_count": 14,
   "id": "1b573b85",
   "metadata": {},
   "outputs": [
    {
     "data": {
      "text/plain": [
       "1    4\n",
       "2    3\n",
       "3    2\n",
       "4    1\n",
       "dtype: int64"
      ]
     },
     "execution_count": 14,
     "metadata": {},
     "output_type": "execute_result"
    }
   ],
   "source": [
    "s.value_counts()"
   ]
  },
  {
   "cell_type": "code",
   "execution_count": 15,
   "id": "239224e4",
   "metadata": {},
   "outputs": [
    {
     "data": {
      "text/plain": [
       "1    0.4\n",
       "2    0.3\n",
       "3    0.2\n",
       "4    0.1\n",
       "dtype: float64"
      ]
     },
     "execution_count": 15,
     "metadata": {},
     "output_type": "execute_result"
    }
   ],
   "source": [
    "s.value_counts(normalize=True)"
   ]
  },
  {
   "cell_type": "code",
   "execution_count": 16,
   "id": "2ee69e25",
   "metadata": {},
   "outputs": [
    {
     "data": {
      "text/plain": [
       "1"
      ]
     },
     "execution_count": 16,
     "metadata": {},
     "output_type": "execute_result"
    }
   ],
   "source": [
    "s.min()"
   ]
  },
  {
   "cell_type": "code",
   "execution_count": 17,
   "id": "b40cab0d",
   "metadata": {},
   "outputs": [
    {
     "data": {
      "text/plain": [
       "4"
      ]
     },
     "execution_count": 17,
     "metadata": {},
     "output_type": "execute_result"
    }
   ],
   "source": [
    "s.max()"
   ]
  },
  {
   "cell_type": "code",
   "execution_count": 18,
   "id": "f38436f7",
   "metadata": {},
   "outputs": [
    {
     "data": {
      "text/plain": [
       "2.0"
      ]
     },
     "execution_count": 18,
     "metadata": {},
     "output_type": "execute_result"
    }
   ],
   "source": [
    "s.mean()"
   ]
  },
  {
   "cell_type": "code",
   "execution_count": 19,
   "id": "ba3edcb4",
   "metadata": {},
   "outputs": [
    {
     "data": {
      "text/plain": [
       "1.0540925533894598"
      ]
     },
     "execution_count": 19,
     "metadata": {},
     "output_type": "execute_result"
    }
   ],
   "source": [
    "s.std()"
   ]
  },
  {
   "cell_type": "code",
   "execution_count": 20,
   "id": "705a00d5",
   "metadata": {},
   "outputs": [
    {
     "data": {
      "text/plain": [
       "count    10.000000\n",
       "mean      2.000000\n",
       "std       1.054093\n",
       "min       1.000000\n",
       "25%       1.000000\n",
       "50%       2.000000\n",
       "75%       2.750000\n",
       "max       4.000000\n",
       "dtype: float64"
      ]
     },
     "execution_count": 20,
     "metadata": {},
     "output_type": "execute_result"
    }
   ],
   "source": [
    "s.describe()"
   ]
  },
  {
   "cell_type": "markdown",
   "id": "54ae19fb",
   "metadata": {},
   "source": [
    "## Aplicar operaciones a una serie\n",
    "Los operadores binarios (+, *, /, etc.) pueden utilizarse con una serie, y devuelven otra serie con el resultado de aplicar la operación a cada elemento de la serie."
   ]
  },
  {
   "cell_type": "code",
   "execution_count": 21,
   "id": "0215aa6c",
   "metadata": {},
   "outputs": [],
   "source": [
    "import pandas as pd\n",
    "s = pd.Series([1, 2, 3, 4])"
   ]
  },
  {
   "cell_type": "code",
   "execution_count": 22,
   "id": "a0e9d246",
   "metadata": {},
   "outputs": [
    {
     "data": {
      "text/plain": [
       "0    2\n",
       "1    4\n",
       "2    6\n",
       "3    8\n",
       "dtype: int64"
      ]
     },
     "execution_count": 22,
     "metadata": {},
     "output_type": "execute_result"
    }
   ],
   "source": [
    "s*2"
   ]
  },
  {
   "cell_type": "code",
   "execution_count": 23,
   "id": "70a2cad7",
   "metadata": {},
   "outputs": [
    {
     "data": {
      "text/plain": [
       "0    1\n",
       "1    0\n",
       "2    1\n",
       "3    0\n",
       "dtype: int64"
      ]
     },
     "execution_count": 23,
     "metadata": {},
     "output_type": "execute_result"
    }
   ],
   "source": [
    "s%2"
   ]
  },
  {
   "cell_type": "code",
   "execution_count": 24,
   "id": "2c376c70",
   "metadata": {},
   "outputs": [],
   "source": [
    "s = pd.Series(['a', 'b', 'c'])"
   ]
  },
  {
   "cell_type": "code",
   "execution_count": 25,
   "id": "fba09f64",
   "metadata": {},
   "outputs": [
    {
     "data": {
      "text/plain": [
       "0    aaaaa\n",
       "1    bbbbb\n",
       "2    ccccc\n",
       "dtype: object"
      ]
     },
     "execution_count": 25,
     "metadata": {},
     "output_type": "execute_result"
    }
   ],
   "source": [
    "s*5"
   ]
  },
  {
   "cell_type": "markdown",
   "id": "8f1d1168",
   "metadata": {},
   "source": [
    "## Aplicar funciones a una serie\n",
    "También es posible aplicar una función a cada elemento de la serie mediante el siguiente método:\n",
    "\n",
    "* **s.apply(f) :** Devuelve una serie con el resultado de aplicar la función f a cada uno de los elementos de la serie s."
   ]
  },
  {
   "cell_type": "code",
   "execution_count": 26,
   "id": "cce6d32b",
   "metadata": {},
   "outputs": [
    {
     "data": {
      "text/plain": [
       "0    0.000000\n",
       "1    0.693147\n",
       "2    1.098612\n",
       "3    1.386294\n",
       "dtype: float64"
      ]
     },
     "execution_count": 26,
     "metadata": {},
     "output_type": "execute_result"
    }
   ],
   "source": [
    "import pandas as pd\n",
    "from math import log\n",
    "s = pd.Series([1, 2, 3, 4])\n",
    "s.apply(log)"
   ]
  },
  {
   "cell_type": "code",
   "execution_count": 27,
   "id": "32ef13b0",
   "metadata": {},
   "outputs": [
    {
     "data": {
      "text/plain": [
       "0    A\n",
       "1    B\n",
       "2    C\n",
       "dtype: object"
      ]
     },
     "execution_count": 27,
     "metadata": {},
     "output_type": "execute_result"
    }
   ],
   "source": [
    "s = pd.Series(['a', 'b', 'c'])\n",
    "s.apply(str.upper)"
   ]
  },
  {
   "cell_type": "markdown",
   "id": "2c5c15ac",
   "metadata": {},
   "source": [
    "## Filtrado de una serie\n",
    "Para filtrar una serie y quedarse con los valores que cumplen una determinada condición se utiliza el siguiente método:\n",
    "\n",
    "* **s[condicion] :** Devuelve una serie con los elementos de la serie s que se corresponden con el valor True de la lista booleana condicion. condicion debe ser una lista de valores booleanos de la misma longitud que la serie."
   ]
  },
  {
   "cell_type": "code",
   "execution_count": 28,
   "id": "b8aed1c6",
   "metadata": {},
   "outputs": [
    {
     "name": "stdout",
     "output_type": "stream",
     "text": [
      "Matemáticas     6.0\n",
      "Programación    8.5\n",
      "dtype: float64\n"
     ]
    }
   ],
   "source": [
    "import pandas as pd\n",
    "s = pd.Series({'Matemáticas': 6.0,  'Economía': 4.5, 'Programación': 8.5})\n",
    "print(s[s > 5])"
   ]
  },
  {
   "cell_type": "markdown",
   "id": "9d8df145",
   "metadata": {},
   "source": [
    "## Ordenar una serie\n",
    "Para ordenar una serie se utilizan los siguientes métodos:\n",
    "\n",
    "* **s.sort_values(ascending=booleano) :** Devuelve la serie que resulta de ordenar los valores la serie s. Si argumento del parámetro ascending es True el orden es creciente y si es False decreciente.\n",
    "\n",
    "* **df.sort_index(ascending=booleano) :** Devuelve la serie que resulta de ordenar el índice de la serie s. Si el argumento del parámetro ascending es True el orden es creciente y si es False decreciente."
   ]
  },
  {
   "cell_type": "code",
   "execution_count": 29,
   "id": "68da3738",
   "metadata": {},
   "outputs": [
    {
     "name": "stdout",
     "output_type": "stream",
     "text": [
      "Economía        4.5\n",
      "Matemáticas     6.0\n",
      "Programación    8.5\n",
      "dtype: float64\n"
     ]
    }
   ],
   "source": [
    "import pandas as pd\n",
    "s = pd.Series({'Matemáticas': 6.0,  'Economía': 4.5, 'Programación': 8.5})\n",
    "print(s.sort_values())"
   ]
  },
  {
   "cell_type": "code",
   "execution_count": 30,
   "id": "67b33655",
   "metadata": {},
   "outputs": [
    {
     "name": "stdout",
     "output_type": "stream",
     "text": [
      "Programación    8.5\n",
      "Matemáticas     6.0\n",
      "Economía        4.5\n",
      "dtype: float64\n"
     ]
    }
   ],
   "source": [
    "print(s.sort_index(ascending = False))"
   ]
  },
  {
   "cell_type": "markdown",
   "id": "7648b2c8",
   "metadata": {},
   "source": [
    "## Eliminar los datos desconocidos en una serie\n",
    "Los datos desconocidos representan en Pandas por NaN y los nulos por None. Tanto unos como otros suelen ser un problema a la hora de realizar algunos análisis de datos, por lo que es habitual eliminarlos. Para eliminarlos de una serie se utiliza el siguiente método:\n",
    "\n",
    "* **s.dropna() :** Elimina los datos desconocidos o nulos de la serie s."
   ]
  },
  {
   "cell_type": "code",
   "execution_count": 31,
   "id": "87d07f4e",
   "metadata": {},
   "outputs": [
    {
     "data": {
      "text/plain": [
       "0       a\n",
       "1       b\n",
       "2    None\n",
       "3       c\n",
       "4     NaN\n",
       "5       d\n",
       "dtype: object"
      ]
     },
     "execution_count": 31,
     "metadata": {},
     "output_type": "execute_result"
    }
   ],
   "source": [
    "import pandas as pd\n",
    "import numpy as np\n",
    "s = pd.Series(['a', 'b', None, 'c', np.NaN,  'd'])\n",
    "s"
   ]
  },
  {
   "cell_type": "code",
   "execution_count": 32,
   "id": "2af54e6b",
   "metadata": {},
   "outputs": [
    {
     "data": {
      "text/plain": [
       "0    a\n",
       "1    b\n",
       "3    c\n",
       "5    d\n",
       "dtype: object"
      ]
     },
     "execution_count": 32,
     "metadata": {},
     "output_type": "execute_result"
    }
   ],
   "source": [
    "s.dropna()"
   ]
  },
  {
   "cell_type": "markdown",
   "id": "01b51e92",
   "metadata": {},
   "source": [
    "## La clase de objetos DataFrame\n",
    "Un objeto del tipo DataFrame define un conjunto de datos estructurado en forma de tabla donde cada columna es un objeto de tipo Series, es decir, todos los datos de una misma columna son del mismo tipo, y las filas son registros que pueden contender datos de distintos tipos.\n",
    "\n",
    "Un DataFrame contiene dos índices, uno para las filas y otro para las columnas, y se puede acceder a sus elementos mediante los nombres de las filas y las columnas.\n",
    "\n",
    "**Ejemplo.** El siguiente DataFrame contiene información sobre los alumnos de un curso. Cada fila corresponde a un alumno y cada columna a una variable.\n",
    "\n",
    "![Pandas-dataframe](imagenes/pandas-dataframe.png)\n",
    "\n",
    "\n",
    "## Creación de un DataFrame a partir de un diccionario de listas\n",
    "Para crear un DataFrame a partir de un diccionario cuyas claves son los nombres de las columnas y los valores son listas con los datos de las columnas se utiliza el método:\n",
    "\n",
    "* **DataFrame(data=diccionario, index=filas, columns=columnas, dtype=tipos) :** Devuelve un objeto del tipo DataFrame cuyas columnas son las listas contenidas en los valores del diccionario diccionario, los nombres de filas indicados en la lista filas, los nombres de columnas indicados en la lista columnas y los tipos indicados en la lista tipos. La lista filas tiene que tener el mismo tamaño que las listas del diccionario, mientras que las listas columnas y tipos tienen que tener el mismo tamaño que el diccionario. Si no se pasa la lista de filas se utilizan como nombres los enteros empezando en 0. Si no se pasa la lista de columnas se utilizan como nombres las claves del diccionario. Si no se pasa la lista de tipos, se infiere.\n",
    " \n",
    "***Los valores asociados a las claves del diccionario deben ser listas del mismo tamaño.***"
   ]
  },
  {
   "cell_type": "code",
   "execution_count": 33,
   "id": "eedf25ce",
   "metadata": {},
   "outputs": [],
   "source": [
    "import pandas as pd\n",
    "datos = {'nombre':['María', 'Luis', 'Carmen', 'Antonio'],\n",
    "'edad':[18, 22, 20, 21],\n",
    "'grado':['Economía', 'Medicina', 'Arquitectura', 'Economía'],\n",
    "'correo':['maria@gmail.com', 'luis@yahoo.es', 'carmen@gmail.com', 'antonio@gmail.com']}"
   ]
  },
  {
   "cell_type": "code",
   "execution_count": 34,
   "id": "97f8aa32",
   "metadata": {},
   "outputs": [
    {
     "name": "stdout",
     "output_type": "stream",
     "text": [
      "    nombre  edad         grado             correo\n",
      "0    María    18      Economía    maria@gmail.com\n",
      "1     Luis    22      Medicina      luis@yahoo.es\n",
      "2   Carmen    20  Arquitectura   carmen@gmail.com\n",
      "3  Antonio    21      Economía  antonio@gmail.com\n"
     ]
    }
   ],
   "source": [
    "df = pd.DataFrame(datos)\n",
    "print(df)"
   ]
  },
  {
   "cell_type": "markdown",
   "id": "7e84fa29",
   "metadata": {},
   "source": [
    "## Creación de un DataFrame a partir de una lista de listas\n",
    "Para crear un DataFrame a partir de una lista de listas con los datos de las columnas se utiliza el siguiente método:\n",
    "\n",
    "* **DataFrame(data=listas, index=filas, columns=columnas, dtype=tipos) :** Devuelve un objeto del tipo DataFrame cuyas columnas son los valores de las listas de la lista listas, los nombres de filas indicados en la lista filas, los nombres de columnas indicados en la lista columnas y los tipos indicados en la lista tipos. La lista filas, tiene que tener el mismo tamaño que la lista listas mientras que las listas columnas y tipos tienen que tener el mismo tamaño que las listas anidadas en listas. Si no se pasa la lista de filas o de columnas se utilizan enteros empezando en 0. Si no se pasa la lista de tipos, se infiere.\n",
    "\n",
    "***Si las listas anidadas en listas no tienen el mismo tamaño, las listas menores se rellenan con valores NaN.***"
   ]
  },
  {
   "cell_type": "code",
   "execution_count": 35,
   "id": "b13a7b5f",
   "metadata": {},
   "outputs": [
    {
     "name": "stdout",
     "output_type": "stream",
     "text": [
      "   Nombre  Edad\n",
      "0   María    18\n",
      "1    Luis    22\n",
      "2  Carmen    20\n"
     ]
    }
   ],
   "source": [
    "import pandas as pd\n",
    "df = pd.DataFrame([['María', 18], ['Luis', 22], ['Carmen', 20]], columns=['Nombre', 'Edad'])\n",
    "print(df)"
   ]
  },
  {
   "cell_type": "markdown",
   "id": "3f08de4e",
   "metadata": {},
   "source": [
    "## Creación de un DataFrame a partir de una lista de diccionarios\n",
    "Para crear un DataFrame a partir de una lista de diccionarios con los datos de las filas, se utiliza el siguiente método:\n",
    "\n",
    "* **DataFrame(data=diccionarios, index=filas, columns=columnas, dtype=tipos) :** Devuelve un objeto del tipo DataFrame cuyas filas contienen los valores de los diccionarios de la lista diccionarios, los nombres de filas indicados en la lista filas, los nombres de columnas indicados en la lista columnas y los tipos indicados en la lista tipos. La lista filas tiene que tener el mismo tamaño que la lista lista. Si no se pasa la lista de filas se utilizan enteros empezando en 0. Si no se pasa la lista de columnas se utilizan las claves de los diccionarios. Si no se pasa la lista de tipos, se infiere.\n",
    " \n",
    "***Si los diccionarios no tienen las mismas claves, las claves que no aparecen en el diccionario se rellenan con valores NaN.***"
   ]
  },
  {
   "cell_type": "code",
   "execution_count": 36,
   "id": "80560f3d",
   "metadata": {},
   "outputs": [
    {
     "name": "stdout",
     "output_type": "stream",
     "text": [
      "   Nombre  Edad\n",
      "0   María  18.0\n",
      "1    Luis  22.0\n",
      "2  Carmen   NaN\n"
     ]
    }
   ],
   "source": [
    "import pandas as pd\n",
    "df = pd.DataFrame([{'Nombre':'María', 'Edad':18}, {'Nombre':'Luis', 'Edad':22}, {'Nombre':'Carmen'}])\n",
    "print(df)"
   ]
  },
  {
   "cell_type": "markdown",
   "id": "b322d95d",
   "metadata": {},
   "source": [
    "## Creación de un DataFrame a partir de un array\n",
    "Para crear un DataFrame a partir de un array de NumPy se utiliza el siguiente método:\n",
    "\n",
    "* **DataFrame(data=array, index=filas, columns=columnas, dtype=tipo) :** Devuelde un objeto del tipo DataFrame cuyas filas y columnas son las del array array, los nombres de filas indicados en la lista filas, los nombres de columnas indicados en la lista columnas y el tipo indicado en tipo. La lista filas tiene que tener el mismo tamaño que el número de filas del array y la lista columnas el mismo tamaño que el número de columnas del array. Si no se pasa la lista de filas se utilizan enteros empezando en 0. Si no se pasa la lista de columnas se utilizan las claves de los diccionarios. Si no se pasa la lista de tipos, se infiere."
   ]
  },
  {
   "cell_type": "code",
   "execution_count": 37,
   "id": "22665170",
   "metadata": {},
   "outputs": [
    {
     "name": "stdout",
     "output_type": "stream",
     "text": [
      "          a         b         c\n",
      "0 -0.023224 -0.740289  0.161920\n",
      "1 -0.514996 -1.514148  0.517522\n",
      "2  0.515631 -0.018910 -2.128206\n",
      "3 -1.637542  2.334536 -0.465228\n"
     ]
    }
   ],
   "source": [
    "import pandas as pd\n",
    "df = pd.DataFrame(np.random.randn(4, 3), columns=['a', 'b', 'c'])\n",
    "print(df)"
   ]
  },
  {
   "cell_type": "markdown",
   "id": "8baf96d2",
   "metadata": {},
   "source": [
    "## Creación de un DataFrame a partir de un fichero CSV o Excel\n",
    "Dependiendo del tipo de fichero, existen distintas funciones para importar un DataFrame desde un fichero.\n",
    "\n",
    "* **read_csv(fichero.csv, sep=separador, header=n, index_col=m, na_values=no-validos, decimal=separador-decimal) :** Devuelve un objeto del tipo DataFrame con los datos del fichero CSV fichero.csv usando como separador de los datos la cadena separador. Como nombres de columnas se utiliza los valores de la fila n y como nombres de filas los valores de la columna m. Si no se indica m se utilizan como nombres de filas los enteros empezando en 0. Los valores incluídos en la lista no-validos se convierten en NaN. Para los datos numéricos se utiliza como separador de decimales el carácter indicado en separador-decimal.\n",
    "\n",
    "* **read_excel(fichero.xlsx, sheet_name=hoja, header=n, index_col=m, na_values=no-validos, decimal=separador-decimal) :** Devuelve un objeto del tipo DataFrame con los datos de la hoja de cálculo hoja del fichero Excel fichero.xlsx. Como nombres de columnas se utiliza los valores de la fila n y como nombres de filas los valores de la columna m. Si no se indica m se utilizan como nombres de filas los enteros empezando en 0. Los valores incluídos en la lista no-validos se convierten en NaN. Para los datos numéricos se utiliza como separador de decimales el carácter indicado en separador-decimal."
   ]
  },
  {
   "cell_type": "code",
   "execution_count": 38,
   "id": "babb6b59",
   "metadata": {},
   "outputs": [
    {
     "name": "stdout",
     "output_type": "stream",
     "text": [
      "                         nombre  edad sexo  peso  altura  colesterol\n",
      "0  José Luis Martínez Izquierdo    18    H  85.0    1.79       182.0\n",
      "1                Rosa Díaz Díaz    32    M  65.0    1.73       232.0\n",
      "2         Javier García Sánchez    24    H   NaN    1.81       191.0\n",
      "3           Carmen López Pinzón    35    M  65.0    1.70       200.0\n",
      "4          Marisa López Collado    46    M  51.0    1.58       148.0\n"
     ]
    }
   ],
   "source": [
    "import pandas as pd\n",
    "# Importación del fichero datos-colesteroles.csv\n",
    "df = pd.read_csv('https://raw.githubusercontent.com/asalber/manual-python/master/datos/colesteroles.csv', sep=';', decimal=',')\n",
    "print(df.head())"
   ]
  },
  {
   "cell_type": "markdown",
   "id": "35d9d678",
   "metadata": {},
   "source": [
    "## Exportación de ficheros\n",
    "También existen funciones para exportar un DataFrame a un fichero con diferentes formatos.\n",
    "\n",
    "* **df.to_csv(fichero.csv, sep=separador, columns=booleano, index=booleano) :** Exporta el DataFrame df al fichero fichero.csv en formato CSV usando como separador de los datos la cadena separador. Si se pasa True al parámetro columns se exporta también la fila con los nombres de columnas y si se pasa True al parámetro index se exporta también la columna con los nombres de las filas.\n",
    "\n",
    "* **df.to_excel(fichero.xlsx, sheet_name = hoja, columns=booleano, index=booleano) :** Exporta el DataFrame df a la hoja de cálculo hoja del fichero fichero.xlsx en formato Excel. Si se pasa True al parámetro columns se exporta también la fila con los nombres de columnas y si se pasa True al parámetro index se exporta también la columna con los nombres de las filas.\n",
    "\n",
    "\n",
    "## Atributos de un DataFrame\n",
    "Existen varias propiedades o métodos para ver las características de un DataFrame.\n",
    "\n",
    "* **df.info() :** Devuelve información (número de filas, número de columnas, índices, tipo de las columnas y memoria usado) sobre el DataFrame df.\n",
    "\n",
    "* **df.shape :** Devuelve una tupla con el número de filas y columnas del DataFrame df.\n",
    "\n",
    "* **df.size :** Devuelve el número de elementos del DataFrame.\n",
    "\n",
    "* **df.columns :** Devuelve una lista con los nombres de las columnas del DataFrame df.\n",
    "\n",
    "* **df.index :** Devuelve una lista con los nombres de las filas del DataFrame df.\n",
    "\n",
    "* **df.dtypes :** Devuelve una serie con los tipos de datos de las columnas del DataFrame df.\n",
    "\n",
    "* **df.head(n) :** Devuelve las n primeras filas del DataFrame df.\n",
    "\n",
    "* **df.tail(n) :** Devuelve las n últimas filas del DataFrame df."
   ]
  },
  {
   "cell_type": "code",
   "execution_count": 39,
   "id": "4206ab3d",
   "metadata": {},
   "outputs": [
    {
     "name": "stdout",
     "output_type": "stream",
     "text": [
      "<class 'pandas.core.frame.DataFrame'>\n",
      "RangeIndex: 14 entries, 0 to 13\n",
      "Data columns (total 6 columns):\n",
      " #   Column      Non-Null Count  Dtype  \n",
      "---  ------      --------------  -----  \n",
      " 0   nombre      14 non-null     object \n",
      " 1   edad        14 non-null     int64  \n",
      " 2   sexo        14 non-null     object \n",
      " 3   peso        13 non-null     float64\n",
      " 4   altura      14 non-null     float64\n",
      " 5   colesterol  13 non-null     float64\n",
      "dtypes: float64(3), int64(1), object(2)\n",
      "memory usage: 800.0+ bytes\n"
     ]
    }
   ],
   "source": [
    "import pandas as pd\n",
    "df = pd.read_csv('https://raw.githubusercontent.com/asalber/manual-python/master/datos/colesterol.csv')\n",
    "df.info()"
   ]
  },
  {
   "cell_type": "code",
   "execution_count": 40,
   "id": "ac2dd84b",
   "metadata": {},
   "outputs": [
    {
     "data": {
      "text/plain": [
       "(14, 6)"
      ]
     },
     "execution_count": 40,
     "metadata": {},
     "output_type": "execute_result"
    }
   ],
   "source": [
    "df.shape"
   ]
  },
  {
   "cell_type": "code",
   "execution_count": 41,
   "id": "81d5ab4c",
   "metadata": {},
   "outputs": [
    {
     "data": {
      "text/plain": [
       "84"
      ]
     },
     "execution_count": 41,
     "metadata": {},
     "output_type": "execute_result"
    }
   ],
   "source": [
    "df.size"
   ]
  },
  {
   "cell_type": "code",
   "execution_count": 42,
   "id": "f2e452a6",
   "metadata": {},
   "outputs": [
    {
     "data": {
      "text/plain": [
       "Index(['nombre', 'edad', 'sexo', 'peso', 'altura', 'colesterol'], dtype='object')"
      ]
     },
     "execution_count": 42,
     "metadata": {},
     "output_type": "execute_result"
    }
   ],
   "source": [
    "df.columns"
   ]
  },
  {
   "cell_type": "code",
   "execution_count": 43,
   "id": "f83b0c2c",
   "metadata": {},
   "outputs": [
    {
     "data": {
      "text/plain": [
       "RangeIndex(start=0, stop=14, step=1)"
      ]
     },
     "execution_count": 43,
     "metadata": {},
     "output_type": "execute_result"
    }
   ],
   "source": [
    "df.index"
   ]
  },
  {
   "cell_type": "code",
   "execution_count": 44,
   "id": "fc046bbb",
   "metadata": {},
   "outputs": [
    {
     "data": {
      "text/plain": [
       "nombre         object\n",
       "edad            int64\n",
       "sexo           object\n",
       "peso          float64\n",
       "altura        float64\n",
       "colesterol    float64\n",
       "dtype: object"
      ]
     },
     "execution_count": 44,
     "metadata": {},
     "output_type": "execute_result"
    }
   ],
   "source": [
    "df.dtypes"
   ]
  },
  {
   "cell_type": "markdown",
   "id": "6c9729f1",
   "metadata": {},
   "source": [
    "## Renombrar los nombres de las filas y columnas\n",
    "Para cambiar el nombre de las filas y las columnas de un DataFrame se utiliza el siguiente método:\n",
    "\n",
    "* **df.rename(columns=columnas, index=filas):** Devuelve el DataFrame que resulta de renombrar las columnas indicadas en las claves del diccionario columnas con sus valores y las filas indicadas en las claves del diccionario filas con sus valores en el DataFrame df."
   ]
  },
  {
   "cell_type": "code",
   "execution_count": 45,
   "id": "10db60ec",
   "metadata": {},
   "outputs": [
    {
     "name": "stdout",
     "output_type": "stream",
     "text": [
      "                   nombre y apellidos  edad sexo   peso  estatura  colesterol\n",
      "1000     José Luis Martínez Izquierdo    18    H   85.0      1.79       182.0\n",
      "1001                   Rosa Díaz Díaz    32    M   65.0      1.73       232.0\n",
      "1002            Javier García Sánchez    24    H    NaN      1.81       191.0\n",
      "3                 Carmen López Pinzón    35    M   65.0      1.70       200.0\n",
      "4                Marisa López Collado    46    M   51.0      1.58       148.0\n",
      "5                   Antonio Ruiz Cruz    68    H   66.0      1.74       249.0\n",
      "6             Antonio Fernández Ocaña    51    H   62.0      1.72       276.0\n",
      "7               Pilar Martín González    22    M   60.0      1.66         NaN\n",
      "8                Pedro Gálvez Tenorio    35    H   90.0      1.94       241.0\n",
      "9             Santiago Reillo Manzano    46    H   75.0      1.85       280.0\n",
      "10              Macarena Álvarez Luna    53    M   55.0      1.62       262.0\n",
      "11         José María de la Guía Sanz    58    H   78.0      1.87       198.0\n",
      "12    Miguel Angel Cuadrado Gutiérrez    27    H  109.0      1.98       210.0\n",
      "13              Carolina Rubio Moreno    20    M   61.0      1.77       194.0\n"
     ]
    }
   ],
   "source": [
    "import pandas as pd\n",
    "df = pd.read_csv('https://raw.githubusercontent.com/asalber/manual-python/master/datos/colesterol.csv')\n",
    "print(df.rename(columns={'nombre':'nombre y apellidos', 'altura':'estatura'}, index={0:1000, 1:1001, 2:1002}))"
   ]
  },
  {
   "cell_type": "markdown",
   "id": "f2ddd571",
   "metadata": {},
   "source": [
    "## Cambiar el índice de un DataFrame\n",
    "Aunque el índice de un DataFrame suele fijarse en la creación del mismo, en ocasiones puede ser necesario cambiar el índice una vez creado el DataFrame. Para ello se utiliza el siguiente método:\n",
    "\n",
    "* **df.set_index(keys = columnas, verify_integrity = bool):** Devuelve el DataFrame que resulta de eliminar las columnas de la lista columnas y convertirlas en el nuevo índice. El parámetro verify_integrity recibe un booleano (False por defecto) y realiza una comprobación para evitar duplicados en la clave cuando recibe True."
   ]
  },
  {
   "cell_type": "code",
   "execution_count": 46,
   "id": "47555455",
   "metadata": {},
   "outputs": [
    {
     "name": "stdout",
     "output_type": "stream",
     "text": [
      "                              edad sexo  peso  altura  colesterol\n",
      "nombre                                                           \n",
      "José Luis Martínez Izquierdo    18    H  85.0    1.79       182.0\n",
      "Rosa Díaz Díaz                  32    M  65.0    1.73       232.0\n",
      "Javier García Sánchez           24    H   NaN    1.81       191.0\n",
      "Carmen López Pinzón             35    M  65.0    1.70       200.0\n",
      "Marisa López Collado            46    M  51.0    1.58       148.0\n"
     ]
    }
   ],
   "source": [
    "import pandas as pd\n",
    "df = pd.read_csv('https://raw.githubusercontent.com/asalber/manual-python/master/datos/colesterol.csv')\n",
    "print(df.set_index(\"nombre\").head())"
   ]
  },
  {
   "cell_type": "markdown",
   "id": "e6cc3a47",
   "metadata": {},
   "source": [
    "## Reindexar un DataFrame\n",
    "Para reordenar los índices de las filas y las columnas de un DataFrame, así como añadir o eliminar índices, se utiliza el siguiente método:\n",
    "\n",
    "* **df.reindex(index=filas, columns=columnas, fill_value=relleno) :** Devuelve el DataFrame que resulta de tomar del DataFrame df las filas con nombres en la lista filas y las columnas con nombres en la lista columnas. Si alguno de los nombres indicados en filas o columnas no existía en el DataFrame df, se crean filan o columnas nuevas rellenas con el valor relleno."
   ]
  },
  {
   "cell_type": "code",
   "execution_count": 47,
   "id": "e4e828e4",
   "metadata": {},
   "outputs": [
    {
     "name": "stdout",
     "output_type": "stream",
     "text": [
      "                 nombre  tensión  colesterol\n",
      "4  Marisa López Collado      NaN       148.0\n",
      "3   Carmen López Pinzón      NaN       200.0\n",
      "1        Rosa Díaz Díaz      NaN       232.0\n"
     ]
    }
   ],
   "source": [
    "import pandas as pd\n",
    "df = pd.read_csv('https://raw.githubusercontent.com/asalber/manual-python/master/datos/colesterol.csv')\n",
    "print(df.reindex(index=[4, 3, 1], columns=['nombre', 'tensión', 'colesterol']))"
   ]
  },
  {
   "cell_type": "markdown",
   "id": "15079b2f",
   "metadata": {},
   "source": [
    "## Acceso a los elementos de un DataFrame\n",
    "El acceso a los datos de un DataFrame se puede hacer a través de posiciones o través de los nombres de las filas y columnas."
   ]
  },
  {
   "cell_type": "markdown",
   "id": "001e108e",
   "metadata": {},
   "source": [
    "### Accesos mediante posiciones\n",
    "* **df.iloc[i, j] :** Devuelve el elemento que se encuentra en la fila i y la columna j del DataFrame df. Pueden indicarse secuencias de índices para obtener partes del DataFrame.\n",
    "\n",
    "* **df.iloc[filas, columnas] :** Devuelve un DataFrame con los elementos de las filas de la lista filas y de las columnas de la lista columnas.\n",
    "\n",
    "* **df.iloc[i] :** Devuelve una serie con los elementos de la fila i del DataFrame df."
   ]
  },
  {
   "cell_type": "code",
   "execution_count": 48,
   "id": "67081c62",
   "metadata": {},
   "outputs": [
    {
     "name": "stdout",
     "output_type": "stream",
     "text": [
      "65.0\n"
     ]
    }
   ],
   "source": [
    "import pandas as pd\n",
    "df = pd.read_csv('https://raw.githubusercontent.com/asalber/manual-python/master/datos/colesterol.csv')\n",
    "print(df.iloc[1, 3])"
   ]
  },
  {
   "cell_type": "code",
   "execution_count": 49,
   "id": "db9cf5d8",
   "metadata": {},
   "outputs": [
    {
     "name": "stdout",
     "output_type": "stream",
     "text": [
      "nombre    Rosa Díaz Díaz\n",
      "edad                  32\n",
      "Name: 1, dtype: object\n"
     ]
    }
   ],
   "source": [
    "print(df.iloc[1, :2])"
   ]
  },
  {
   "cell_type": "markdown",
   "id": "59be3121",
   "metadata": {},
   "source": [
    "### Acceso a los elementos mediante nombres\n",
    "* **df.loc[fila, columna] :** Devuelve el elemento que se encuentra en la fila con nombre fila y la columna de con nombre columna del DataFrame df.\n",
    "* **df.loc[filas, columnas] :** Devuelve un DataFrame con los elemento que se encuentra en las filas con los nombres de la lista filas y las columnas con los nombres de la lista columnas del DataFrame df.\n",
    "\n",
    "* **df[columna] :** Devuelve una serie con los elementos de la columna de nombre columna del DataFrame df.\n",
    "\n",
    "* **df.columna :** Devuelve una serie con los elementos de la columna de nombre columna del DataFrame df. Es similar al método anterior pero solo funciona cuando el nombre de la columna no tiene espacios en blanco."
   ]
  },
  {
   "cell_type": "code",
   "execution_count": 50,
   "id": "3b9cdc0c",
   "metadata": {},
   "outputs": [
    {
     "name": "stdout",
     "output_type": "stream",
     "text": [
      "191.0\n"
     ]
    }
   ],
   "source": [
    "import pandas as pd\n",
    "df = pd.read_csv('https://raw.githubusercontent.com/asalber/manual-python/master/datos/colesterol.csv')\n",
    "print(df.loc[2, 'colesterol'])"
   ]
  },
  {
   "cell_type": "code",
   "execution_count": 51,
   "id": "60e6e042",
   "metadata": {},
   "outputs": [
    {
     "name": "stdout",
     "output_type": "stream",
     "text": [
      "   colesterol  peso\n",
      "0       182.0  85.0\n",
      "1       232.0  65.0\n",
      "2       191.0   NaN\n",
      "3       200.0  65.0\n"
     ]
    }
   ],
   "source": [
    "print(df.loc[:3, ('colesterol','peso')])"
   ]
  },
  {
   "cell_type": "code",
   "execution_count": 52,
   "id": "14face63",
   "metadata": {},
   "outputs": [
    {
     "name": "stdout",
     "output_type": "stream",
     "text": [
      "0     182.0\n",
      "1     232.0\n",
      "2     191.0\n",
      "3     200.0\n",
      "4     148.0\n",
      "5     249.0\n",
      "6     276.0\n",
      "7       NaN\n",
      "8     241.0\n",
      "9     280.0\n",
      "10    262.0\n",
      "11    198.0\n",
      "12    210.0\n",
      "13    194.0\n",
      "Name: colesterol, dtype: float64\n"
     ]
    }
   ],
   "source": [
    "print(df['colesterol'])"
   ]
  },
  {
   "cell_type": "markdown",
   "id": "7c77309a",
   "metadata": {},
   "source": [
    "## Operaciones con las columnas de un DataFrame\n",
    "Añadir columnas a un DataFrame\n",
    "El procedimiento para añadir una nueva columna a un DataFrame es similar al de añadir un nuevo par a un diccionario, pero pasando los valores de la columna en una lista o serie.\n",
    "\n",
    "* **d[nombre] = lista:** Añade al DataFrame df una nueva columna con el nombre nombre y los valores de la lista lista. La lista debe tener el mismo tamaño que el número de filas de df.\n",
    "\n",
    "* **d[nombre] = serie:** Añade al DataFrame df una nueva columna con el nombre nombre y los valores de la serie serie. Si el tamaño de la serie es menor que el número de filas de df se rellena con valores NaN mientras que si es mayor se recorta."
   ]
  },
  {
   "cell_type": "code",
   "execution_count": 53,
   "id": "54f1d486",
   "metadata": {},
   "outputs": [
    {
     "name": "stdout",
     "output_type": "stream",
     "text": [
      "                             nombre  edad sexo   peso  altura  colesterol  \\\n",
      "0      José Luis Martínez Izquierdo    18    H   85.0    1.79       182.0   \n",
      "1                    Rosa Díaz Díaz    32    M   65.0    1.73       232.0   \n",
      "2             Javier García Sánchez    24    H    NaN    1.81       191.0   \n",
      "3               Carmen López Pinzón    35    M   65.0    1.70       200.0   \n",
      "4              Marisa López Collado    46    M   51.0    1.58       148.0   \n",
      "5                 Antonio Ruiz Cruz    68    H   66.0    1.74       249.0   \n",
      "6           Antonio Fernández Ocaña    51    H   62.0    1.72       276.0   \n",
      "7             Pilar Martín González    22    M   60.0    1.66         NaN   \n",
      "8              Pedro Gálvez Tenorio    35    H   90.0    1.94       241.0   \n",
      "9           Santiago Reillo Manzano    46    H   75.0    1.85       280.0   \n",
      "10            Macarena Álvarez Luna    53    M   55.0    1.62       262.0   \n",
      "11       José María de la Guía Sanz    58    H   78.0    1.87       198.0   \n",
      "12  Miguel Angel Cuadrado Gutiérrez    27    H  109.0    1.98       210.0   \n",
      "13            Carolina Rubio Moreno    20    M   61.0    1.77       194.0   \n",
      "\n",
      "   diabetes  \n",
      "0     False  \n",
      "1     False  \n",
      "2      True  \n",
      "3     False  \n",
      "4      True  \n",
      "5       NaN  \n",
      "6       NaN  \n",
      "7       NaN  \n",
      "8       NaN  \n",
      "9       NaN  \n",
      "10      NaN  \n",
      "11      NaN  \n",
      "12      NaN  \n",
      "13      NaN  \n"
     ]
    }
   ],
   "source": [
    "import pandas as pd\n",
    "df = pd.read_csv('https://raw.githubusercontent.com/asalber/manual-python/master/datos/colesterol.csv')\n",
    "df['diabetes'] = pd.Series([False, False, True, False, True])\n",
    "print(df)"
   ]
  },
  {
   "cell_type": "markdown",
   "id": "bc657bfe",
   "metadata": {},
   "source": [
    "## Operaciones sobre columnas\n",
    "Puesto que los datos de una misma columna de un DataFrame son del mismo tipo, es fácil aplicar la misma operación a todos los elementos de la columna."
   ]
  },
  {
   "cell_type": "code",
   "execution_count": 54,
   "id": "15e571b3",
   "metadata": {},
   "outputs": [
    {
     "name": "stdout",
     "output_type": "stream",
     "text": [
      "0     179.0\n",
      "1     173.0\n",
      "2     181.0\n",
      "3     170.0\n",
      "4     158.0\n",
      "5     174.0\n",
      "6     172.0\n",
      "7     166.0\n",
      "8     194.0\n",
      "9     185.0\n",
      "10    162.0\n",
      "11    187.0\n",
      "12    198.0\n",
      "13    177.0\n",
      "Name: altura, dtype: float64\n"
     ]
    }
   ],
   "source": [
    "import pandas as pd\n",
    "df = pd.read_csv('https://raw.githubusercontent.com/asalber/manual-python/master/datos/colesterol.csv')\n",
    "print(df['altura']*100)"
   ]
  },
  {
   "cell_type": "code",
   "execution_count": 55,
   "id": "a66c1961",
   "metadata": {},
   "outputs": [
    {
     "name": "stdout",
     "output_type": "stream",
     "text": [
      "0     False\n",
      "1      True\n",
      "2     False\n",
      "3      True\n",
      "4      True\n",
      "5     False\n",
      "6     False\n",
      "7      True\n",
      "8     False\n",
      "9     False\n",
      "10     True\n",
      "11    False\n",
      "12    False\n",
      "13     True\n",
      "Name: sexo, dtype: bool\n"
     ]
    }
   ],
   "source": [
    "print(df['sexo']=='M')"
   ]
  },
  {
   "cell_type": "markdown",
   "id": "f048e7fd",
   "metadata": {},
   "source": [
    "## Aplicar funciones a columnas\n",
    "Para aplicar funciones a todos los elementos de una columna se utiliza el siguiente método:\n",
    "\n",
    "* **df[columna].apply(f) :** Devuelve una serie con los valores que resulta de aplicar la función f a los elementos de la columna con nombre columna del DataFrame df."
   ]
  },
  {
   "cell_type": "code",
   "execution_count": 56,
   "id": "3b859721",
   "metadata": {},
   "outputs": [
    {
     "name": "stdout",
     "output_type": "stream",
     "text": [
      "0     0.582216\n",
      "1     0.548121\n",
      "2     0.593327\n",
      "3     0.530628\n",
      "4     0.457425\n",
      "5     0.553885\n",
      "6     0.542324\n",
      "7     0.506818\n",
      "8     0.662688\n",
      "9     0.615186\n",
      "10    0.482426\n",
      "11    0.625938\n",
      "12    0.683097\n",
      "13    0.570980\n",
      "Name: altura, dtype: float64\n"
     ]
    }
   ],
   "source": [
    "import pandas as pd\n",
    "from math import log\n",
    "df = pd.read_csv('https://raw.githubusercontent.com/asalber/manual-python/master/datos/colesterol.csv')\n",
    "print(df['altura'].apply(log))"
   ]
  },
  {
   "cell_type": "markdown",
   "id": "9660f91f",
   "metadata": {},
   "source": [
    "## Convertir una columna al tipo datetime\n",
    "A menudo una columna contiene cadenas que representan fechas. Para convertir estas cadenas al tipo datetime se utiliza el siguiente método:\n",
    "\n",
    "* **to_datetime(columna, formato):** Devuelve la serie que resulta de convertir las cadenas de la columna con el nombre columna en fechas del tipo datetime con el formado especificado en formato. ( Ver librería datetime)"
   ]
  },
  {
   "cell_type": "code",
   "execution_count": 57,
   "id": "8c3d635c",
   "metadata": {},
   "outputs": [
    {
     "name": "stdout",
     "output_type": "stream",
     "text": [
      "0   2000-03-05\n",
      "1   2001-05-20\n",
      "2   1999-12-10\n",
      "Name: Nacimiento, dtype: datetime64[ns]\n"
     ]
    }
   ],
   "source": [
    "import pandas as pd\n",
    "df = pd.DataFrame({'Name': ['María', 'Carlos', 'Carmen'], 'Nacimiento':['05-03-2000', '20-05-2001', '10-12-1999']})\n",
    "print(pd.to_datetime(df.Nacimiento, format = '%d-%m-%Y'))"
   ]
  },
  {
   "cell_type": "markdown",
   "id": "b63afcf4",
   "metadata": {},
   "source": [
    "## Resumen descriptivo de un DataFrame\n",
    "Al igual que para las series, los siguientes métodos permiten resumir la información de un DataFrame por columnas:\n",
    "\n",
    "* **df.count() :** Devuelve una serie número de elementos que no son nulos ni NaN en cada columna del DataFrame df.\n",
    "* **df.sum() :** Devuelve una serie con la suma de los datos de las columnas del DataFrame df cuando los datos son de un tipo numérico, o la concatenación de ellos cuando son del tipo cadena str.\n",
    "* **df.cumsum() :** Devuelve un DataFrame con la suma acumulada de los datos de las columnas del DataFrame df cuando los datos son de un tipo numérico.\n",
    "* **df.min() :** Devuelve una serie con los menores de los datos de las columnas del DataFrame df.\n",
    "* **df.max() :** Devuelve una serie con los mayores de los datos de las columnas del DataFrame df.\n",
    "* **df.mean() :** Devuelve una serie con las media de los datos de las columnas del DataFrame df cuando los datos son de un tipo numérico.\n",
    "* **df.std() :** Devuelve una serie con las desviaciones típicas de los datos de las columnas del DataFrame df cuando los datos son de un tipo numérico.\n",
    "* **df.describe(include = tipo) :** Devuelve un DataFrame con un resumen estadístico de las columnas del DataFrame df del tipo tipo. Para los datos numéricos (number) se calcula la media, la desviación típica, el mínimo, el máximo y los cuartiles de las columnas numéricas. Para los datos no numéricos (object) se calcula el número de valores, el número de valores distintos, la moda y su frecuencia. Si no se indica el tipo solo se consideran las columnas numéricas."
   ]
  },
  {
   "cell_type": "code",
   "execution_count": 58,
   "id": "310c4cc7",
   "metadata": {},
   "outputs": [
    {
     "name": "stdout",
     "output_type": "stream",
     "text": [
      "            edad        peso     altura  colesterol\n",
      "count  14.000000   13.000000  14.000000   13.000000\n",
      "mean   38.214286   70.923077   1.768571  220.230769\n",
      "std    15.621379   16.126901   0.115016   39.847948\n",
      "min    18.000000   51.000000   1.580000  148.000000\n",
      "25%    24.750000   61.000000   1.705000  194.000000\n",
      "50%    35.000000   65.000000   1.755000  210.000000\n",
      "75%    49.750000   78.000000   1.840000  249.000000\n",
      "max    68.000000  109.000000   1.980000  280.000000\n"
     ]
    }
   ],
   "source": [
    "import pandas as pd\n",
    "df = pd.read_csv('https://raw.githubusercontent.com/asalber/manual-python/master/datos/colesterol.csv')\n",
    "print(df.describe())"
   ]
  },
  {
   "cell_type": "code",
   "execution_count": 59,
   "id": "6a1a246c",
   "metadata": {},
   "outputs": [
    {
     "name": "stdout",
     "output_type": "stream",
     "text": [
      "                              nombre sexo\n",
      "count                             14   14\n",
      "unique                            14    2\n",
      "top     José Luis Martínez Izquierdo    H\n",
      "freq                               1    8\n"
     ]
    }
   ],
   "source": [
    "print(df.describe(include='object'))"
   ]
  },
  {
   "cell_type": "markdown",
   "id": "b237255b",
   "metadata": {},
   "source": [
    "## Eliminar columnas de un DataFrame\n",
    "Para eliminar columnas de un DataFrame se utilizan los siguientes métodos:\n",
    "\n",
    "* **del d[nombre] :** Elimina la columna con nombre nombre del DataFrame df.\n",
    "\n",
    "* **df.pop(nombre) :** Elimina la columna con nombre nombre del DataFrame df y la devuelve como una serie."
   ]
  },
  {
   "cell_type": "code",
   "execution_count": 60,
   "id": "97b98004",
   "metadata": {},
   "outputs": [
    {
     "name": "stdout",
     "output_type": "stream",
     "text": [
      "                             nombre sexo   peso  altura  colesterol\n",
      "0      José Luis Martínez Izquierdo    H   85.0    1.79       182.0\n",
      "1                    Rosa Díaz Díaz    M   65.0    1.73       232.0\n",
      "2             Javier García Sánchez    H    NaN    1.81       191.0\n",
      "3               Carmen López Pinzón    M   65.0    1.70       200.0\n",
      "4              Marisa López Collado    M   51.0    1.58       148.0\n",
      "5                 Antonio Ruiz Cruz    H   66.0    1.74       249.0\n",
      "6           Antonio Fernández Ocaña    H   62.0    1.72       276.0\n",
      "7             Pilar Martín González    M   60.0    1.66         NaN\n",
      "8              Pedro Gálvez Tenorio    H   90.0    1.94       241.0\n",
      "9           Santiago Reillo Manzano    H   75.0    1.85       280.0\n",
      "10            Macarena Álvarez Luna    M   55.0    1.62       262.0\n",
      "11       José María de la Guía Sanz    H   78.0    1.87       198.0\n",
      "12  Miguel Angel Cuadrado Gutiérrez    H  109.0    1.98       210.0\n",
      "13            Carolina Rubio Moreno    M   61.0    1.77       194.0\n"
     ]
    }
   ],
   "source": [
    "import pandas as pd\n",
    "df = pd.read_csv('https://raw.githubusercontent.com/asalber/manual-python/master/datos/colesterol.csv')\n",
    "edad = df.pop('edad')\n",
    "print(df)"
   ]
  },
  {
   "cell_type": "code",
   "execution_count": 61,
   "id": "fe6791fe",
   "metadata": {},
   "outputs": [
    {
     "name": "stdout",
     "output_type": "stream",
     "text": [
      "0     18\n",
      "1     32\n",
      "2     24\n",
      "3     35\n",
      "4     46\n",
      "5     68\n",
      "6     51\n",
      "7     22\n",
      "8     35\n",
      "9     46\n",
      "10    53\n",
      "11    58\n",
      "12    27\n",
      "13    20\n",
      "Name: edad, dtype: int64\n"
     ]
    }
   ],
   "source": [
    "print(edad)"
   ]
  },
  {
   "cell_type": "markdown",
   "id": "db323dd9",
   "metadata": {},
   "source": [
    "## Operaciones con las filas de un DataFrame\n",
    "Añadir una fila a un DataFrame\n",
    "Para añadir una fila a un DataFrame se utiliza el siguiente método:\n",
    "\n",
    "* **df.append(serie, ignore_index=True) :** Devuelve el DataFrame que resulta de añadir una fila al DataFrame df con los valores de la serie serie. Los nombres del índice de la serie deben corresponderse con los nombres de las columnas de df. Si no se pasa el parámetro ignore_index entonces debe pasarse el parámetro name a la serie, donde su argumento será el nombre de la nueva fila."
   ]
  },
  {
   "cell_type": "code",
   "execution_count": 62,
   "id": "ffa8962a",
   "metadata": {},
   "outputs": [
    {
     "name": "stdout",
     "output_type": "stream",
     "text": [
      "                             nombre  edad sexo   peso  altura  colesterol\n",
      "10            Macarena Álvarez Luna    53    M   55.0    1.62       262.0\n",
      "11       José María de la Guía Sanz    58    H   78.0    1.87       198.0\n",
      "12  Miguel Angel Cuadrado Gutiérrez    27    H  109.0    1.98       210.0\n",
      "13            Carolina Rubio Moreno    20    M   61.0    1.77       194.0\n",
      "14                     Carlos Rivas    28    H   89.0    1.78       245.0\n"
     ]
    }
   ],
   "source": [
    "import pandas as pd\n",
    "df = pd.read_csv('https://raw.githubusercontent.com/asalber/manual-python/master/datos/colesterol.csv')\n",
    "df = df.append(pd.Series(['Carlos Rivas', 28, 'H', 89.0, 1.78, 245.0], index=['nombre','edad','sexo','peso','altura','colesterol']), ignore_index=True)\n",
    "print(df.tail())"
   ]
  },
  {
   "cell_type": "markdown",
   "id": "051086c9",
   "metadata": {},
   "source": [
    "## Eliminar filas de un DataFrame\n",
    "Para eliminar filas de un DataFrame se utilizan el siguiente método:\n",
    "\n",
    "* **df.drop(filas) :** Devuelve el DataFrame que resulta de eliminar las filas con los nombres indicados en la lista filas del DataFrame df."
   ]
  },
  {
   "cell_type": "code",
   "execution_count": 63,
   "id": "1fcf5c31",
   "metadata": {},
   "outputs": [
    {
     "name": "stdout",
     "output_type": "stream",
     "text": [
      "                             nombre  edad sexo   peso  altura  colesterol\n",
      "0      José Luis Martínez Izquierdo    18    H   85.0    1.79       182.0\n",
      "2             Javier García Sánchez    24    H    NaN    1.81       191.0\n",
      "4              Marisa López Collado    46    M   51.0    1.58       148.0\n",
      "5                 Antonio Ruiz Cruz    68    H   66.0    1.74       249.0\n",
      "6           Antonio Fernández Ocaña    51    H   62.0    1.72       276.0\n",
      "7             Pilar Martín González    22    M   60.0    1.66         NaN\n",
      "8              Pedro Gálvez Tenorio    35    H   90.0    1.94       241.0\n",
      "9           Santiago Reillo Manzano    46    H   75.0    1.85       280.0\n",
      "10            Macarena Álvarez Luna    53    M   55.0    1.62       262.0\n",
      "11       José María de la Guía Sanz    58    H   78.0    1.87       198.0\n",
      "12  Miguel Angel Cuadrado Gutiérrez    27    H  109.0    1.98       210.0\n",
      "13            Carolina Rubio Moreno    20    M   61.0    1.77       194.0\n"
     ]
    }
   ],
   "source": [
    "import pandas as pd\n",
    "df = pd.read_csv('https://raw.githubusercontent.com/asalber/manual-python/master/datos/colesterol.csv')\n",
    "print(df.drop([1, 3]))"
   ]
  },
  {
   "cell_type": "markdown",
   "id": "6773cb5e",
   "metadata": {},
   "source": [
    "## Filtrado de las filas de un DataFrame\n",
    "Una operación bastante común con un DataFrame es obtener las filas que cumplen una determinada condición.\n",
    "\n",
    "* **df[condicion] :** Devuelve un DataFrame con las filas del DataFrame df que se corresponden con el valor True de la lista booleana condicion. condicion debe ser una lista de valores booleanos de la misma longitud que el número de filas del DataFrame."
   ]
  },
  {
   "cell_type": "code",
   "execution_count": 64,
   "id": "a4f29dcd",
   "metadata": {},
   "outputs": [
    {
     "name": "stdout",
     "output_type": "stream",
     "text": [
      "                    nombre  edad sexo  peso  altura  colesterol\n",
      "6  Antonio Fernández Ocaña    51    H  62.0    1.72       276.0\n",
      "9  Santiago Reillo Manzano    46    H  75.0    1.85       280.0\n"
     ]
    }
   ],
   "source": [
    "import pandas as pd\n",
    "df = pd.read_csv('https://raw.githubusercontent.com/asalber/manual-python/master/datos/colesterol.csv')\n",
    "print(df[(df['sexo']=='H') & (df['colesterol'] > 260)])"
   ]
  },
  {
   "cell_type": "markdown",
   "id": "75044aaf",
   "metadata": {},
   "source": [
    "## Ordenar un DataFrame\n",
    "Para ordenar un DataFrame de acuerdo a los valores de una determinada columna se utilizan los siguientes métodos:\n",
    "\n",
    "* **df.sort_values(columna, ascending=booleano) :** Devuelve el DataFrame que resulta de ordenar las filas del DataFrame df según los valores del la columna con nombre columna. Si argumento del parámetro ascending es True el orden es creciente y si es False decreciente.\n",
    "\n",
    "* **df.sort_index(ascending=booleano) :** Devuelve el DataFrame que resulta de ordenar las filas del DataFrame df según los nombres de las filas. Si el argumento del parámetro ascending es True el orden es creciente y si es False decreciente."
   ]
  },
  {
   "cell_type": "code",
   "execution_count": 65,
   "id": "106ae3a1",
   "metadata": {},
   "outputs": [
    {
     "name": "stdout",
     "output_type": "stream",
     "text": [
      "                             nombre  edad sexo   peso  altura  colesterol\n",
      "4              Marisa López Collado    46    M   51.0    1.58       148.0\n",
      "0      José Luis Martínez Izquierdo    18    H   85.0    1.79       182.0\n",
      "2             Javier García Sánchez    24    H    NaN    1.81       191.0\n",
      "13            Carolina Rubio Moreno    20    M   61.0    1.77       194.0\n",
      "11       José María de la Guía Sanz    58    H   78.0    1.87       198.0\n",
      "3               Carmen López Pinzón    35    M   65.0    1.70       200.0\n",
      "12  Miguel Angel Cuadrado Gutiérrez    27    H  109.0    1.98       210.0\n",
      "1                    Rosa Díaz Díaz    32    M   65.0    1.73       232.0\n",
      "8              Pedro Gálvez Tenorio    35    H   90.0    1.94       241.0\n",
      "5                 Antonio Ruiz Cruz    68    H   66.0    1.74       249.0\n",
      "10            Macarena Álvarez Luna    53    M   55.0    1.62       262.0\n",
      "6           Antonio Fernández Ocaña    51    H   62.0    1.72       276.0\n",
      "9           Santiago Reillo Manzano    46    H   75.0    1.85       280.0\n",
      "7             Pilar Martín González    22    M   60.0    1.66         NaN\n"
     ]
    }
   ],
   "source": [
    "import pandas as pd\n",
    "df = pd.read_csv('https://raw.githubusercontent.com/asalber/manual-python/master/datos/colesterol.csv')\n",
    "print(df.sort_values('colesterol'))"
   ]
  },
  {
   "cell_type": "markdown",
   "id": "6791359a",
   "metadata": {},
   "source": [
    "## Eliminar las filas con dados desconocidos en un DataFrame\n",
    "Para eliminar las filas de un DataFrame que contienen datos desconocidos NaN o nulos None se utiliza el siguiente método:\n",
    "\n",
    "* **s.dropna(subset=columnas) :** Devuelve el DataFrame que resulta de eliminar las filas que contienen algún dato desconocido o nulo en las columnas de la lista columna del DataFrame df. Si no se pasa un argumento al parámetro subset se aplica a todas las columnas del DataFrame."
   ]
  },
  {
   "cell_type": "code",
   "execution_count": 66,
   "id": "a28e0b9e",
   "metadata": {},
   "outputs": [
    {
     "name": "stdout",
     "output_type": "stream",
     "text": [
      "                             nombre  edad sexo   peso  altura  colesterol\n",
      "0      José Luis Martínez Izquierdo    18    H   85.0    1.79       182.0\n",
      "1                    Rosa Díaz Díaz    32    M   65.0    1.73       232.0\n",
      "3               Carmen López Pinzón    35    M   65.0    1.70       200.0\n",
      "4              Marisa López Collado    46    M   51.0    1.58       148.0\n",
      "5                 Antonio Ruiz Cruz    68    H   66.0    1.74       249.0\n",
      "6           Antonio Fernández Ocaña    51    H   62.0    1.72       276.0\n",
      "8              Pedro Gálvez Tenorio    35    H   90.0    1.94       241.0\n",
      "9           Santiago Reillo Manzano    46    H   75.0    1.85       280.0\n",
      "10            Macarena Álvarez Luna    53    M   55.0    1.62       262.0\n",
      "11       José María de la Guía Sanz    58    H   78.0    1.87       198.0\n",
      "12  Miguel Angel Cuadrado Gutiérrez    27    H  109.0    1.98       210.0\n",
      "13            Carolina Rubio Moreno    20    M   61.0    1.77       194.0\n"
     ]
    }
   ],
   "source": [
    "import pandas as pd\n",
    "df = pd.read_csv('https://raw.githubusercontent.com/asalber/manual-python/master/datos/colesterol.csv')\n",
    "print(df.dropna())"
   ]
  },
  {
   "cell_type": "markdown",
   "id": "7e15831b",
   "metadata": {},
   "source": [
    "## Agrupación de un DataFrame\n",
    "En muchas aplicaciones es útil agrupar los datos de un DataFrame de acuerdo a los valores de una o varias columnas (categorías), como por ejemplo el sexo o el país.\n",
    "\n",
    "![pandas-grupos](imagenes/pandas-grupos.png)"
   ]
  },
  {
   "cell_type": "markdown",
   "id": "335aae4e",
   "metadata": {},
   "source": [
    "## Dividir un DataFrame en grupos\n",
    "Para dividir un DataFrame en grupos se utiliza el siguiente método:\n",
    "\n",
    "* **df.groupby(columnas).groups :** Devuelve un diccionario con cuyas claves son las tuplas que resultan de todas las combinaciones de los valores de las columnas con nombres en la lista columnas, y valores las listas de los nombres de las filas que contienen esos valores en las correspondientes columnas del DataFrame df."
   ]
  },
  {
   "cell_type": "code",
   "execution_count": 67,
   "id": "def6dc9c",
   "metadata": {},
   "outputs": [
    {
     "name": "stdout",
     "output_type": "stream",
     "text": [
      "{'H': [0, 2, 5, 6, 8, 9, 11, 12], 'M': [1, 3, 4, 7, 10, 13]}\n"
     ]
    }
   ],
   "source": [
    "import pandas as pd\n",
    "df = pd.read_csv('https://raw.githubusercontent.com/asalber/manual-python/master/datos/colesterol.csv')\n",
    "print(df.groupby('sexo').groups)"
   ]
  },
  {
   "cell_type": "code",
   "execution_count": 68,
   "id": "14facffc",
   "metadata": {},
   "outputs": [
    {
     "name": "stdout",
     "output_type": "stream",
     "text": [
      "{('H', 18): [0], ('H', 24): [2], ('H', 27): [12], ('H', 35): [8], ('H', 46): [9], ('H', 51): [6], ('H', 58): [11], ('H', 68): [5], ('M', 20): [13], ('M', 22): [7], ('M', 32): [1], ('M', 35): [3], ('M', 46): [4], ('M', 53): [10]}\n"
     ]
    }
   ],
   "source": [
    "print(df.groupby(['sexo','edad']).groups)"
   ]
  },
  {
   "cell_type": "markdown",
   "id": "069ba1fa",
   "metadata": {},
   "source": [
    "Para obtener un grupo concreto se utiliza el siguiente método:\n",
    "\n",
    "* **df.groupby(columnas).get_group(valores) :** Devuelve un DataFrame con las filas del DataFrame df que cumplen que las columnas de la lista columnas presentan los valores de la tupla valores. La lista columnas y la tupla valores deben tener el mismo tamaño."
   ]
  },
  {
   "cell_type": "code",
   "execution_count": 69,
   "id": "d4be562e",
   "metadata": {},
   "outputs": [
    {
     "name": "stdout",
     "output_type": "stream",
     "text": [
      "                   nombre  edad sexo  peso  altura  colesterol\n",
      "1          Rosa Díaz Díaz    32    M  65.0    1.73       232.0\n",
      "3     Carmen López Pinzón    35    M  65.0    1.70       200.0\n",
      "4    Marisa López Collado    46    M  51.0    1.58       148.0\n",
      "7   Pilar Martín González    22    M  60.0    1.66         NaN\n",
      "10  Macarena Álvarez Luna    53    M  55.0    1.62       262.0\n",
      "13  Carolina Rubio Moreno    20    M  61.0    1.77       194.0\n"
     ]
    }
   ],
   "source": [
    "import pandas as pd\n",
    "df = pd.read_csv('https://raw.githubusercontent.com/asalber/manual-python/master/datos/colesterol.csv')\n",
    "print(df.groupby('sexo').get_group('M'))"
   ]
  },
  {
   "cell_type": "markdown",
   "id": "c706c3c2",
   "metadata": {},
   "source": [
    "## Aplicar una función de agregación por grupos\n",
    "Una vez dividido el DataFame en grupos, es posible aplicar funciones de agregación a cada grupo mediante el siguiente método:\n",
    "\n",
    "* **df.groupby(columnas).agg(funciones) :** Devuelve un DataFrame con el resultado de aplicar las funciones de agregación de la lista funciones a cada uno de los DataFrames que resultan de dividir el DataFrame según las columnas de la lista columnas.\n",
    "\n",
    "Una función de agregación toma como argumento una lista y devuelve una único valor. Algunas de las funciones de agregación más comunes son:\n",
    "\n",
    "* **np.min :** Devuelve el mínimo de una lista de valores.\n",
    "* **np.max :** Devuelve el máximo de una lista de valores.\n",
    "* **np.count_nonzero :** Devuelve el número de valores no nulos de una lista de valores.\n",
    "* **np.sum :** Devuelve la suma de una lista de valores.\n",
    "* **np.mean :** Devuelve la media de una lista de valores.\n",
    "* **np.std :** Devuelve la desviación típica de una lista de valores."
   ]
  },
  {
   "cell_type": "code",
   "execution_count": 70,
   "id": "f9992b1a",
   "metadata": {},
   "outputs": [
    {
     "name": "stdout",
     "output_type": "stream",
     "text": [
      "           edad       peso    altura  colesterol\n",
      "sexo                                            \n",
      "H     40.875000  80.714286  1.837500     228.375\n",
      "M     34.666667  59.500000  1.676667     207.200\n"
     ]
    }
   ],
   "source": [
    "import pandas as pd\n",
    "df = pd.read_csv('https://raw.githubusercontent.com/asalber/manual-python/master/datos/colesterol.csv')\n",
    "print(df.groupby('sexo').agg(np.mean))"
   ]
  },
  {
   "cell_type": "markdown",
   "id": "1a0c56b7",
   "metadata": {},
   "source": [
    "## Reestructurar un DataFrame\n",
    "A menudo la disposición de los datos en un DataFrame no es la adecuada para su tratamiento y es necesario reestructurar el DataFrame. Los datos que contiene un DataFrame pueden organizarse en dos formatos: ancho y largo.\n",
    "\n",
    "![formatos-dataframe](imagenes/formatos-dataframe.png)\n",
    "\n",
    "\n",
    "## Convertir un DataFrame a formato largo\n",
    "Para convertir un DataFrame de formato ancho a formato largo (columnas a filas) se utiliza el siguiente método:\n",
    "\n",
    "* **df.melt(id_vars=id-columnas, value_vars=columnas, var_name=nombre-columnas, var_value=nombre-valores) :** Devuelve el DataFrame que resulta de convertir el DataFrame df de formato ancho a formato largo. Todas las columnas de lista columnas se reestructuran en dos nuevas columnas con nombres nombre-columnas y nombre-valores que contienen los nombres de las columnas originales y sus valores, respectivamente. Las columnas en la lista id-columnas se mantienen sin reestructurar. Si no se pasa la lista columnas entonces se reestructuran todas las columnas excepto las columnas de la lista id-columnas."
   ]
  },
  {
   "cell_type": "code",
   "execution_count": 71,
   "id": "71d342f1",
   "metadata": {},
   "outputs": [
    {
     "name": "stdout",
     "output_type": "stream",
     "text": [
      "   nombre  edad    asignatura  nota\n",
      "0   María    18   Matemáticas   8.5\n",
      "1    Luis    22   Matemáticas   7.0\n",
      "2  Carmen    20   Matemáticas   3.5\n",
      "3   María    18      Economía   8.0\n",
      "4    Luis    22      Economía   6.5\n",
      "5  Carmen    20      Economía   5.0\n",
      "6   María    18  Programación   6.5\n",
      "7    Luis    22  Programación   4.0\n",
      "8  Carmen    20  Programación   9.0\n"
     ]
    }
   ],
   "source": [
    "import pandas as pd\n",
    "datos = {'nombre':['María', 'Luis', 'Carmen'],\n",
    "'edad':[18, 22, 20],\n",
    "'Matemáticas':[8.5, 7, 3.5],\n",
    "'Economía':[8, 6.5, 5],\n",
    "'Programación':[6.5, 4, 9]}\n",
    "df = pd.DataFrame(datos)\n",
    "df1 = df.melt(id_vars=['nombre', 'edad'], var_name='asignatura', value_name='nota')\n",
    "print(df1)"
   ]
  },
  {
   "cell_type": "markdown",
   "id": "ef285e58",
   "metadata": {},
   "source": [
    "## Convertir un DataFrame a formato ancho\n",
    "Para convertir un DataFrame de formato largo a formato ancho (filas a columnas) se utiliza el siguiente método:\n",
    "\n",
    "* **df.pivot(index=filas, columns=columna, values=valores) :** Devuelve el DataFrame que resulta de convertir el DataFrame df de formato largo a formato ancho. Se crean tantas columnas nuevas como valores distintos haya en la columna columna. Los nombres de estas nuevas columnas son los valores de la columna columna mientras que sus valores se toman de la columna valores. Los nombres del índice del nuevo DataFrame se toman de los valores de la columna filas."
   ]
  },
  {
   "cell_type": "code",
   "execution_count": 72,
   "id": "da64bc26",
   "metadata": {},
   "outputs": [
    {
     "name": "stdout",
     "output_type": "stream",
     "text": [
      "asignatura  Economía  Matemáticas  Programación\n",
      "nombre                                         \n",
      "Carmen           5.0          3.5           9.0\n",
      "Luis             6.5          7.0           4.0\n",
      "María            8.0          8.5           6.5\n"
     ]
    }
   ],
   "source": [
    "# Continuación del código anterior\n",
    "print(df1.pivot(index='nombre', columns='asignatura', values='nota'))"
   ]
  },
  {
   "cell_type": "markdown",
   "id": "5ece83db",
   "metadata": {},
   "source": [
    "## Combinar varios DataFrames\n",
    "Dos o más DataFrames pueden combinarse en otro DataFrame. La combinación puede ser de varias formas:\n",
    "\n",
    "* Concatenación: Combinación de varios DataFrames concatenando sus filas o columnas.\n",
    "* Mezcla: Combinación de varios DataFrames usando columnas o índices comunes.\n",
    "\n",
    "## Concatenación de DataFrames\n",
    "* Concatenación de filas. Las filas de los DataFrames se concatenan unas a continuación de las otras para formar el nuevo DataFrame. Para ello es necesario que los DataFrames que se combinen tengan el mismo índice de columnas.\n",
    "\n",
    "![pandas-concatenacion-filas](imagenes/pandas-concatenacion-filas.png)\n",
    "\n",
    "* Concatenación de columnas. Las columnas de los DataFrames se concatenan unas a continuación de las otras para formar el nuevo DataFrame. Para ello es necesario que los DataFrames que se combinen tengan el mismo índice de filas.\n",
    "\n",
    "![pandas-concatenacion-columnas](imagenes/pandas-concatenacion-columnas.png)\n",
    "\n",
    "Para concatenar dos o más DataFrames se utiliza el siguiente método:\n",
    "\n",
    "* **df.concat(dataframes, axis = eje):** Devuelve el DataFrame que resulta de concatenar los DataFrames de la lista dataframes. Si eje es 0 (valor por defecto) la concatenación se realiza por filas, y si eje es 1 se realiza por columnas.\n",
    "\n",
    "***Si los DataFrames que se concatenan por filas no tienen el mismo índice de columnas, el DataFrame resultante incluirá todas las columnas existentes en los DataFrames y rellenará con valores NaN los datos no disponibles. Si los DataFrames que se concatenan por columnas no tienen el mismo índice de filas, el DataFrame resultante incluirá todas las filas existentes en los DataFrames y rellenará con valores NaN los datos no disponibles.***"
   ]
  },
  {
   "cell_type": "code",
   "execution_count": 73,
   "id": "520cace3",
   "metadata": {},
   "outputs": [
    {
     "data": {
      "text/html": [
       "<div>\n",
       "<style scoped>\n",
       "    .dataframe tbody tr th:only-of-type {\n",
       "        vertical-align: middle;\n",
       "    }\n",
       "\n",
       "    .dataframe tbody tr th {\n",
       "        vertical-align: top;\n",
       "    }\n",
       "\n",
       "    .dataframe thead th {\n",
       "        text-align: right;\n",
       "    }\n",
       "</style>\n",
       "<table border=\"1\" class=\"dataframe\">\n",
       "  <thead>\n",
       "    <tr style=\"text-align: right;\">\n",
       "      <th></th>\n",
       "      <th>Sexo</th>\n",
       "      <th>Edad</th>\n",
       "    </tr>\n",
       "    <tr>\n",
       "      <th>Nombre</th>\n",
       "      <th></th>\n",
       "      <th></th>\n",
       "    </tr>\n",
       "  </thead>\n",
       "  <tbody>\n",
       "    <tr>\n",
       "      <th>Carmen</th>\n",
       "      <td>Mujer</td>\n",
       "      <td>22</td>\n",
       "    </tr>\n",
       "    <tr>\n",
       "      <th>Luis</th>\n",
       "      <td>Hombre</td>\n",
       "      <td>18</td>\n",
       "    </tr>\n",
       "    <tr>\n",
       "      <th>María</th>\n",
       "      <td>Mujer</td>\n",
       "      <td>25</td>\n",
       "    </tr>\n",
       "    <tr>\n",
       "      <th>Pedro</th>\n",
       "      <td>Hombre</td>\n",
       "      <td>30</td>\n",
       "    </tr>\n",
       "  </tbody>\n",
       "</table>\n",
       "</div>"
      ],
      "text/plain": [
       "          Sexo  Edad\n",
       "Nombre              \n",
       "Carmen   Mujer    22\n",
       "Luis    Hombre    18\n",
       "María    Mujer    25\n",
       "Pedro   Hombre    30"
      ]
     },
     "execution_count": 73,
     "metadata": {},
     "output_type": "execute_result"
    }
   ],
   "source": [
    "import pandas as pd\n",
    "df1 = pd.DataFrame({\"Nombre\":[\"Carmen\", \"Luis\"], \n",
    "\"Sexo\":[\"Mujer\", \"Hombre\"], \"Edad\":[22, 18]}).set_index(\"Nombre\")\n",
    "df2 = pd.DataFrame({\"Nombre\":[\"María\", \"Pedro\"], \n",
    "\"Sexo\":[\"Mujer\", \"Hombre\"], \"Edad\":[25, 30]}).set_index(\"Nombre\")\n",
    "df = pd.concat([df1, df2])\n",
    "df"
   ]
  },
  {
   "cell_type": "code",
   "execution_count": 74,
   "id": "b38fa00c",
   "metadata": {},
   "outputs": [
    {
     "data": {
      "text/html": [
       "<div>\n",
       "<style scoped>\n",
       "    .dataframe tbody tr th:only-of-type {\n",
       "        vertical-align: middle;\n",
       "    }\n",
       "\n",
       "    .dataframe tbody tr th {\n",
       "        vertical-align: top;\n",
       "    }\n",
       "\n",
       "    .dataframe thead th {\n",
       "        text-align: right;\n",
       "    }\n",
       "</style>\n",
       "<table border=\"1\" class=\"dataframe\">\n",
       "  <thead>\n",
       "    <tr style=\"text-align: right;\">\n",
       "      <th></th>\n",
       "      <th>Sexo</th>\n",
       "      <th>Edad</th>\n",
       "    </tr>\n",
       "    <tr>\n",
       "      <th>Nombre</th>\n",
       "      <th></th>\n",
       "      <th></th>\n",
       "    </tr>\n",
       "  </thead>\n",
       "  <tbody>\n",
       "    <tr>\n",
       "      <th>Carmen</th>\n",
       "      <td>Mujer</td>\n",
       "      <td>22</td>\n",
       "    </tr>\n",
       "    <tr>\n",
       "      <th>Luis</th>\n",
       "      <td>Hombre</td>\n",
       "      <td>18</td>\n",
       "    </tr>\n",
       "    <tr>\n",
       "      <th>María</th>\n",
       "      <td>Mujer</td>\n",
       "      <td>25</td>\n",
       "    </tr>\n",
       "  </tbody>\n",
       "</table>\n",
       "</div>"
      ],
      "text/plain": [
       "          Sexo  Edad\n",
       "Nombre              \n",
       "Carmen   Mujer    22\n",
       "Luis    Hombre    18\n",
       "María    Mujer    25"
      ]
     },
     "execution_count": 74,
     "metadata": {},
     "output_type": "execute_result"
    }
   ],
   "source": [
    "import pandas as pd\n",
    "df1 = pd.DataFrame({\"Nombre\":[\"Carmen\", \"Luis\", \"María\"], \n",
    "\"Sexo\":[\"Mujer\", \"Hombre\", \"Mujer\"]}).set_index(\"Nombre\")\n",
    "df2 = pd.DataFrame({\"Nombre\":[\"Carmen\", \"Luis\", \"María\"], \n",
    "\"Edad\":[22, 18, 25]}).set_index(\"Nombre\")\n",
    "df = pd.concat([df1, df2], axis = 1)\n",
    "df"
   ]
  },
  {
   "cell_type": "markdown",
   "id": "dc4713ff",
   "metadata": {},
   "source": [
    "## Mezcla de DataFrames\n",
    "La mezcla de DataFrames permite integrar filas de dos DataFrames que contienen información en común en una o varias columnas o índices que se conocen como clave.\n",
    "\n",
    "Para mezclar dos DataFrames se utiliza el siguiente método:\n",
    "\n",
    "* **df.merge(df1, df2, on = clave, how = tipo):** Devuelve el DataFrame que resulta de mezclar el DataFrame df2 con el DataFrame df1, usando como claves las columnas de la lista clave y siguiendo el método de mezcla indicado por tipo.\n",
    "\n",
    "El tipo de mezcla puede ser\n",
    "\n",
    "* **\"inner\" (por defecto):** El DataFrame resultante solo contiene las filas cuyos valores en la clave están en los dos DataFrames. Es equivalente a la intersección de conjuntos."
   ]
  },
  {
   "cell_type": "code",
   "execution_count": 76,
   "id": "f73163c6",
   "metadata": {},
   "outputs": [
    {
     "name": "stdout",
     "output_type": "stream",
     "text": [
      "  Nombre    Sexo  Edad\n",
      "0   Luis  Hombre    18\n",
      "1  María   Mujer    25\n"
     ]
    }
   ],
   "source": [
    "import pandas as pd\n",
    "df1 = pd.DataFrame({\"Nombre\":[\"Carmen\", \"Luis\", \"María\"],  \"Sexo\":[\"Mujer\", \"Hombre\", \"Mujer\"]})\n",
    "df2 = pd.DataFrame({\"Nombre\":[\"María\", \"Pedro\", \"Luis\"], \"Edad\":[25, 30, 18]})\n",
    "df = pd.merge(df1, df2, on=\"Nombre\")\n",
    "print(df)"
   ]
  },
  {
   "cell_type": "markdown",
   "id": "93d60321",
   "metadata": {},
   "source": [
    "* **\"outer\":** El DataFrame resultante contiene todas las filas de los dos DataFrames. Si una fila de un DataFrame no puede emparejarse con otra los mismos valores en la clave en el otro DataFrame, la fila se añade igualmente al DataFrame resultante rellenando las columnas del otro DataFrame con el valor NaN. Es equivalente a la unión de conjuntos."
   ]
  },
  {
   "cell_type": "code",
   "execution_count": 78,
   "id": "3880cc3d",
   "metadata": {},
   "outputs": [
    {
     "name": "stdout",
     "output_type": "stream",
     "text": [
      "   Nombre    Sexo  Edad\n",
      "0  Carmen   Mujer   NaN\n",
      "1    Luis  Hombre  18.0\n",
      "2   María   Mujer  25.0\n",
      "3   Pedro     NaN  30.0\n"
     ]
    }
   ],
   "source": [
    "import pandas as pd\n",
    "df1 = pd.DataFrame({\"Nombre\":[\"Carmen\", \"Luis\", \"María\"],  \"Sexo\":[\"Mujer\", \"Hombre\", \"Mujer\"]})\n",
    "df2 = pd.DataFrame({\"Nombre\":[\"María\", \"Pedro\", \"Luis\"], \"Edad\":[25, 30, 18]})\n",
    "df = pd.merge(df1, df2, on=\"Nombre\", how=\"outer\")\n",
    "print(df)"
   ]
  },
  {
   "cell_type": "markdown",
   "id": "c75b637a",
   "metadata": {},
   "source": [
    "* **\"left\":** El DataFrame resultante contiene todas las filas del primer DataFrame y descarta las filas del segundo DataFrame que no pueden emparejarse con alguna fila del primer DataFrame a través de la clave."
   ]
  },
  {
   "cell_type": "code",
   "execution_count": 79,
   "id": "cade9b22",
   "metadata": {},
   "outputs": [
    {
     "name": "stdout",
     "output_type": "stream",
     "text": [
      "   Nombre    Sexo  Edad\n",
      "0  Carmen   Mujer   NaN\n",
      "1    Luis  Hombre  18.0\n",
      "2   María   Mujer  25.0\n"
     ]
    }
   ],
   "source": [
    "import pandas as pd\n",
    "df1 = pd.DataFrame({\"Nombre\":[\"Carmen\", \"Luis\", \"María\"],  \"Sexo\":[\"Mujer\", \"Hombre\", \"Mujer\"]})\n",
    "df2 = pd.DataFrame({\"Nombre\":[\"María\", \"Pedro\", \"Luis\"], \"Edad\":[25, 30, 18]})\n",
    "df = pd.merge(df1, df2, on=\"Nombre\", how=\"left\")\n",
    "print(df)"
   ]
  },
  {
   "cell_type": "markdown",
   "id": "4c772bd9",
   "metadata": {},
   "source": [
    "* **\"right\":** El DataFrame resultante contiene todas las filas del segundo DataFrame y descarta las filas del primer DataFrame que no pueden emparejarse con alguna fila del segundo DataFrame a través de la clave."
   ]
  },
  {
   "cell_type": "code",
   "execution_count": 80,
   "id": "12440ccb",
   "metadata": {},
   "outputs": [
    {
     "name": "stdout",
     "output_type": "stream",
     "text": [
      "  Nombre    Sexo  Edad\n",
      "0  María   Mujer    25\n",
      "1  Pedro     NaN    30\n",
      "2   Luis  Hombre    18\n"
     ]
    }
   ],
   "source": [
    "import pandas as pd\n",
    "df1 = pd.DataFrame({\"Nombre\":[\"Carmen\", \"Luis\", \"María\"],  \"Sexo\":[\"Mujer\", \"Hombre\", \"Mujer\"]})\n",
    "df2 = pd.DataFrame({\"Nombre\":[\"María\", \"Pedro\", \"Luis\"], \"Edad\":[25, 30, 18]})\n",
    "df = pd.merge(df1, df2, on=\"Nombre\", how=\"right\")\n",
    "print(df)"
   ]
  },
  {
   "cell_type": "code",
   "execution_count": null,
   "id": "fac5c3fd",
   "metadata": {},
   "outputs": [],
   "source": []
  }
 ],
 "metadata": {
  "kernelspec": {
   "display_name": "Python 3",
   "language": "python",
   "name": "python3"
  },
  "language_info": {
   "codemirror_mode": {
    "name": "ipython",
    "version": 3
   },
   "file_extension": ".py",
   "mimetype": "text/x-python",
   "name": "python",
   "nbconvert_exporter": "python",
   "pygments_lexer": "ipython3",
   "version": "3.8.8"
  }
 },
 "nbformat": 4,
 "nbformat_minor": 5
}
