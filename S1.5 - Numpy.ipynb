{
 "cells": [
  {
   "cell_type": "markdown",
   "id": "495d5662",
   "metadata": {},
   "source": [
    "# La librería Numpy"
   ]
  },
  {
   "cell_type": "markdown",
   "id": "7e8c95ea",
   "metadata": {},
   "source": [
    "La librería Numpy\n",
    "NumPy es una librería de Python especializada en el cálculo numérico y el análisis de datos, especialmente para un gran volumen de datos.\n",
    "\n",
    "Incorpora una nueva clase de objetos llamados arrays que permite representar colecciones de datos de un mismo tipo en varias dimensiones, y funciones muy eficientes para su manipulación.\n",
    "\n",
    "La ventaja de Numpy frente a las listas predefinidas en Python es que el procesamiento de los arrays se realiza mucho más rápido (hasta 50 veces más) que las listas, lo cual la hace ideal para el procesamiento de vectores y matrices de grandes dimensiones.\n",
    "\n",
    "Página oficial: https://numpy.org/\n",
    "\n",
    "![Numpy](imagenes/numpy-logo.png)"
   ]
  },
  {
   "cell_type": "markdown",
   "id": "ebf77a75",
   "metadata": {},
   "source": [
    "## La clase de objetos array\n",
    "\n",
    "Un array es una estructura de datos de un mismo tipo organizada en forma de tabla o cuadrícula de distintas dimensiones.\n",
    "\n",
    "Las dimensiones de un array también se conocen como ejes.\n",
    "\n",
    "![Arrays](imagenes/arrays.png)"
   ]
  },
  {
   "cell_type": "markdown",
   "id": "c63e00fd",
   "metadata": {},
   "source": [
    "## Creación de arrays\n",
    "\n",
    "Para crear un array se utiliza la siguiente función de NumPy\n",
    "\n",
    "* **np.array(lista) :** Crea un array a partir de la lista o tupla lista y devuelve una referencia a él. El número de dimensiones del array dependerá de las listas o tuplas anidadas en lista:\n",
    "\n",
    "* Para una lista de valores se crea un array de una dimensión, también conocido como vector.\n",
    "\n",
    "* Para una lista de listas de valores se crea un array de dos dimensiones, también conocido como matriz.\n",
    "\n",
    "* Para una lista de listas de listas de valores se crea un array de tres dimensiones, también conocido como cubo.\n",
    "\n",
    "* Y así sucesivamente. No hay límite en el número de dimensiones del array más allá de la memoria disponible en el sistema.\n",
    "\n",
    " ***Los elementos de la lista o tupla deben ser del mismo tipo.***"
   ]
  },
  {
   "cell_type": "code",
   "execution_count": 1,
   "id": "2594e3cb",
   "metadata": {},
   "outputs": [
    {
     "name": "stdout",
     "output_type": "stream",
     "text": [
      "[1 2 3]\n",
      "(3,)\n"
     ]
    }
   ],
   "source": [
    "# Array de una dimensión\n",
    "import numpy as np\n",
    "a1 = np.array([1, 2, 3])\n",
    "print(a1)\n",
    "print(a1.shape)"
   ]
  },
  {
   "cell_type": "code",
   "execution_count": 2,
   "id": "ea348b21",
   "metadata": {},
   "outputs": [
    {
     "name": "stdout",
     "output_type": "stream",
     "text": [
      "[[1 2 3]\n",
      " [4 5 6]]\n",
      "(2, 3)\n"
     ]
    }
   ],
   "source": [
    "# Array de dos dimensiones\n",
    "a2 = np.array([[1, 2, 3], [4, 5, 6]])\n",
    "print(a2)\n",
    "print(a2.shape)"
   ]
  },
  {
   "cell_type": "code",
   "execution_count": 3,
   "id": "bbf40643",
   "metadata": {},
   "outputs": [
    {
     "name": "stdout",
     "output_type": "stream",
     "text": [
      "[[[ 1  2  3]\n",
      "  [ 4  5  6]]\n",
      "\n",
      " [[ 7  8  9]\n",
      "  [10 11 12]]]\n",
      "(2, 2, 3)\n"
     ]
    }
   ],
   "source": [
    "# Array de tres dimensiones\n",
    "a3 = np.array([[[1, 2, 3], [4, 5, 6]], [[7, 8, 9], [10, 11, 12]]])\n",
    "print(a3)\n",
    "print(a3.shape)"
   ]
  },
  {
   "cell_type": "markdown",
   "id": "feae6b3d",
   "metadata": {},
   "source": [
    "## Otras funciones útiles que permiten generar arrays son:\n",
    "\n",
    "* **np.empty(dimensiones) :** Crea y devuelve una referencia a un array vacío con las dimensiones especificadas en la tupla dimensiones.\n",
    "\n",
    "* **np.zeros(dimensiones) :** Crea y devuelve una referencia a un array con las dimensiones especificadas en la tupla dimensiones cuyos elementos son todos ceros.\n",
    "\n",
    "* **np.ones(dimensiones) :** Crea y devuelve una referencia a un array con las dimensiones especificadas en la tupla dimensiones cuyos elementos son todos unos.\n",
    "\n",
    "* **np.full(dimensiones, valor) :** Crea y devuelve una referencia a un array con las dimensiones especificadas en la tupla dimensiones cuyos elementos son todos valor.\n",
    "\n",
    "* **np.identity(n) :** Crea y devuelve una referencia a la matriz identidad de dimensión n.\n",
    "\n",
    "* **np.arange(inicio, fin, salto) :** Crea y devuelve una referencia a un array de una dimensión cuyos elementos son la secuencia desde inicio hasta fin tomando valores cada salto.\n",
    "\n",
    "* **np.linspace(inicio, fin, n) :** Crea y devuelve una referencia a un array de una dimensión cuyos elementos son la secuencia de n valores equidistantes desde inicio hasta fin.\n",
    "\n",
    "* **np.random.random(dimensiones) :** Crea y devuelve una referencia a un array con las dimensiones especificadas en la tupla dimensiones cuyos elementos son aleatorios."
   ]
  },
  {
   "cell_type": "code",
   "execution_count": 32,
   "id": "bdf95767",
   "metadata": {},
   "outputs": [
    {
     "name": "stdout",
     "output_type": "stream",
     "text": [
      "[[0. 0. 0. 0.]\n",
      " [0. 0. 0. 0.]\n",
      " [0. 0. 0. 0.]]\n"
     ]
    }
   ],
   "source": [
    "print(np.zeros((3,4)))"
   ]
  },
  {
   "cell_type": "code",
   "execution_count": 25,
   "id": "584fd783",
   "metadata": {},
   "outputs": [
    {
     "name": "stdout",
     "output_type": "stream",
     "text": [
      "[[1. 0. 0.]\n",
      " [0. 1. 0.]\n",
      " [0. 0. 1.]]\n"
     ]
    }
   ],
   "source": [
    "print(np.identity(3))"
   ]
  },
  {
   "cell_type": "code",
   "execution_count": 23,
   "id": "c2cc7067",
   "metadata": {},
   "outputs": [
    {
     "name": "stdout",
     "output_type": "stream",
     "text": [
      "[1 3 5 7 9]\n"
     ]
    }
   ],
   "source": [
    "print(np.arange(1, 10, 2))"
   ]
  },
  {
   "cell_type": "code",
   "execution_count": 24,
   "id": "da98a373",
   "metadata": {},
   "outputs": [
    {
     "name": "stdout",
     "output_type": "stream",
     "text": [
      "[ 0.   2.5  5.   7.5 10. ]\n"
     ]
    }
   ],
   "source": [
    "print(np.linspace(0, 10, 5))"
   ]
  },
  {
   "cell_type": "markdown",
   "id": "d2bd3a8c",
   "metadata": {},
   "source": [
    "## Atributos de un array\n",
    "Existen varios atributos y funciones que describen las características de un array.\n",
    "\n",
    "* **a.ndim :** Devuelve el número de dimensiones del array a.\n",
    "\n",
    "* **a.shape :** Devuelve una tupla con las dimensiones del array a.\n",
    "\n",
    "* **a.size :** Devuelve el número de elementos del array a.\n",
    "\n",
    "* **a.dtype:** Devuelve el tipo de datos de los elementos del array a.\n",
    "\n",
    "\n",
    "## Acceso a los elementos de un array\n",
    "Para acceder a los elementos contenidos en un array se usan índices al igual que para acceder a los elementos de una lista, pero indicando los índices de cada dimensión separados por comas.\n",
    "\n",
    "Al igual que para listas, los índices de cada dimensión comienzan en 0.\n",
    "\n",
    "También es posible obtener subarrays con el operador dos puntos : indicando el índice inicial y el siguiente al final para cada dimensión, de nuevo separados por comas."
   ]
  },
  {
   "cell_type": "code",
   "execution_count": 33,
   "id": "da8b4246",
   "metadata": {},
   "outputs": [],
   "source": [
    "a = np.array([[1, 2, 3], [4, 5, 6]])"
   ]
  },
  {
   "cell_type": "code",
   "execution_count": 34,
   "id": "fe79de80",
   "metadata": {},
   "outputs": [
    {
     "name": "stdout",
     "output_type": "stream",
     "text": [
      "4\n"
     ]
    }
   ],
   "source": [
    "print(a[1, 0])  # Acceso al elemento de la fila 1 columna 0"
   ]
  },
  {
   "cell_type": "code",
   "execution_count": 35,
   "id": "0e31fd4b",
   "metadata": {},
   "outputs": [
    {
     "name": "stdout",
     "output_type": "stream",
     "text": [
      "4\n"
     ]
    }
   ],
   "source": [
    "print(a[1][0])  # Otra forma de acceder al mismo elemento"
   ]
  },
  {
   "cell_type": "code",
   "execution_count": 36,
   "id": "dffd0806",
   "metadata": {},
   "outputs": [
    {
     "name": "stdout",
     "output_type": "stream",
     "text": [
      "[[1 2]\n",
      " [4 5]]\n"
     ]
    }
   ],
   "source": [
    "print(a[:, 0:2])"
   ]
  },
  {
   "cell_type": "markdown",
   "id": "88590d91",
   "metadata": {},
   "source": [
    "## Filtrado de elementos de un array\n",
    "Una característica muy útil de los arrays es que es muy fácil obtener otro array con los elementos que cumplen una condición.\n",
    "\n",
    "* **a[condicion] :** Devuelve una lista con los elementos del array a que cumplen la condición condicion."
   ]
  },
  {
   "cell_type": "code",
   "execution_count": 37,
   "id": "0ec172f8",
   "metadata": {},
   "outputs": [],
   "source": [
    "a = np.array([[1, 2, 3], [4, 5, 6]])"
   ]
  },
  {
   "cell_type": "code",
   "execution_count": 38,
   "id": "60a0967b",
   "metadata": {},
   "outputs": [
    {
     "name": "stdout",
     "output_type": "stream",
     "text": [
      "[2 4 6]\n"
     ]
    }
   ],
   "source": [
    "print(a[(a % 2 == 0)])"
   ]
  },
  {
   "cell_type": "code",
   "execution_count": 39,
   "id": "367287f5",
   "metadata": {},
   "outputs": [
    {
     "name": "stdout",
     "output_type": "stream",
     "text": [
      "[4 6]\n"
     ]
    }
   ],
   "source": [
    "print(a[(a % 2 == 0) &  (a > 2)])"
   ]
  },
  {
   "cell_type": "markdown",
   "id": "4bd84eba",
   "metadata": {},
   "source": [
    "## Operaciones matemáticas con arrays\n",
    "Existen dos formas de realizar operaciones matemáticas con arrays: a nivel de elemento y a nivel de array.\n",
    "\n",
    "Las operaciones a nivel de elemento operan los elementos que ocupan la misma posición en dos arrays. Se necesitan, por tanto, dos arrays con las mismas dimensiones y el resultado es una array de la misma dimensión.\n",
    "\n",
    "Los operadores mamemáticos se utilizan para la realizar suma, resta, producto, cociente, resto y potencia a nivel de elemento."
   ]
  },
  {
   "cell_type": "code",
   "execution_count": 45,
   "id": "8021ff0f",
   "metadata": {},
   "outputs": [],
   "source": [
    "a = np.array([[1, 2, 3], [4, 5, 6]])"
   ]
  },
  {
   "cell_type": "code",
   "execution_count": 46,
   "id": "66faf272",
   "metadata": {},
   "outputs": [],
   "source": [
    "b = np.array([[1, 1, 1], [2, 2, 2]])"
   ]
  },
  {
   "cell_type": "code",
   "execution_count": 47,
   "id": "c492c80b",
   "metadata": {},
   "outputs": [
    {
     "name": "stdout",
     "output_type": "stream",
     "text": [
      "[[2 3 4]\n",
      " [6 7 8]]\n"
     ]
    }
   ],
   "source": [
    "print(a + b)"
   ]
  },
  {
   "cell_type": "code",
   "execution_count": 48,
   "id": "acedf8f4",
   "metadata": {},
   "outputs": [
    {
     "name": "stdout",
     "output_type": "stream",
     "text": [
      "[[1.  2.  3. ]\n",
      " [2.  2.5 3. ]]\n"
     ]
    }
   ],
   "source": [
    "print(a / b)"
   ]
  },
  {
   "cell_type": "code",
   "execution_count": 49,
   "id": "e325ad0a",
   "metadata": {},
   "outputs": [
    {
     "name": "stdout",
     "output_type": "stream",
     "text": [
      "[[ 1  4  9]\n",
      " [16 25 36]]\n"
     ]
    }
   ],
   "source": [
    "print(a ** 2)"
   ]
  },
  {
   "cell_type": "markdown",
   "id": "7a39ec1f",
   "metadata": {},
   "source": [
    "## Álgebra matricial\n",
    "Numpy incorpora funciones para realizar las principales operaciones algebraicas con vectores y matrices. La mayoría de los métodos algebráicos se agrupan en el submódulo linalg.\n",
    "\n",
    "### Producto escalar de dos vectores\n",
    "Para realizar el producto escalar de dos vectores se utiliza el operador @ o el siguiente método:\n",
    "\n",
    "* **u.dot(v):** Devuelve el producto escalar de los vectores u y v."
   ]
  },
  {
   "cell_type": "code",
   "execution_count": 52,
   "id": "fc948ed2",
   "metadata": {},
   "outputs": [],
   "source": [
    "import numpy as np\n",
    "a = np.array([1, 2, 3])\n",
    "b = np.array([1, 0, 1])"
   ]
  },
  {
   "cell_type": "code",
   "execution_count": 53,
   "id": "ec8e2894",
   "metadata": {},
   "outputs": [
    {
     "name": "stdout",
     "output_type": "stream",
     "text": [
      "4\n"
     ]
    }
   ],
   "source": [
    "print(a @ b)"
   ]
  },
  {
   "cell_type": "code",
   "execution_count": 54,
   "id": "b31bec5b",
   "metadata": {},
   "outputs": [
    {
     "name": "stdout",
     "output_type": "stream",
     "text": [
      "4\n"
     ]
    }
   ],
   "source": [
    "print(a.dot(b))"
   ]
  },
  {
   "cell_type": "markdown",
   "id": "3d0d1d72",
   "metadata": {},
   "source": [
    "### Módulo de un vector\n",
    "Para calcular el módulo de un vector se utiliza el siguiente método:\n",
    "\n",
    "* **norm(v):** Devuelve el módulo del vector v."
   ]
  },
  {
   "cell_type": "code",
   "execution_count": 55,
   "id": "7d048254",
   "metadata": {},
   "outputs": [
    {
     "name": "stdout",
     "output_type": "stream",
     "text": [
      "5.0\n"
     ]
    }
   ],
   "source": [
    "import numpy as np\n",
    "a = np.array([3, 4])\n",
    "print(np.linalg.norm(a))"
   ]
  },
  {
   "cell_type": "markdown",
   "id": "0e5999ff",
   "metadata": {},
   "source": [
    "### Producto de dos matrices\n",
    "Para realizar el producto matricial se utiliza el mismo operador @ y método que para el producto escalar de vectores:\n",
    "\n",
    "* **a.dot(b) :** Devuelve el producto matricial de las matrices a y b siempre y cuando sus dimensiones sean compatibles."
   ]
  },
  {
   "cell_type": "code",
   "execution_count": 56,
   "id": "14b41d30",
   "metadata": {},
   "outputs": [
    {
     "name": "stdout",
     "output_type": "stream",
     "text": [
      "[[14 14]\n",
      " [32 32]]\n"
     ]
    }
   ],
   "source": [
    "import numpy as np\n",
    "a = np.array([[1, 2, 3], [4, 5, 6]])\n",
    "b = np.array([[1, 1], [2, 2], [3, 3]])\n",
    "print(a @ b)"
   ]
  },
  {
   "cell_type": "code",
   "execution_count": 57,
   "id": "95e4fd16",
   "metadata": {},
   "outputs": [
    {
     "name": "stdout",
     "output_type": "stream",
     "text": [
      "[[14 14]\n",
      " [32 32]]\n"
     ]
    }
   ],
   "source": [
    "print(a.dot(b))"
   ]
  },
  {
   "cell_type": "markdown",
   "id": "b7b7ecc5",
   "metadata": {},
   "source": [
    "### Matriz traspuesta\n",
    "Para trasponer una matriz se utiliza el método\n",
    "\n",
    "* **a.T :** Devuelve la matriz traspuesta de la matriz a."
   ]
  },
  {
   "cell_type": "code",
   "execution_count": 58,
   "id": "3fe82d4d",
   "metadata": {},
   "outputs": [
    {
     "name": "stdout",
     "output_type": "stream",
     "text": [
      "[[1 4]\n",
      " [2 5]\n",
      " [3 6]]\n"
     ]
    }
   ],
   "source": [
    "import numpy as np\n",
    "a = np.array([[1, 2, 3], [4, 5, 6]])\n",
    "print(a.T)"
   ]
  },
  {
   "cell_type": "markdown",
   "id": "172ee6d1",
   "metadata": {},
   "source": [
    "### Traza de una matriz\n",
    "La traza de una matriz cuadrada se calcula con el siguiente método:\n",
    "\n",
    "* **a.trace() :** Devuelve la traza (suma de la diagonal principal) de la matriz cuadrada a."
   ]
  },
  {
   "cell_type": "code",
   "execution_count": 59,
   "id": "30e0cc07",
   "metadata": {},
   "outputs": [
    {
     "name": "stdout",
     "output_type": "stream",
     "text": [
      "15\n"
     ]
    }
   ],
   "source": [
    "import numpy as np\n",
    "a = np.array([[1, 2, 3], [4, 5, 6], [7, 8, 9]])\n",
    "print(a.trace())"
   ]
  },
  {
   "cell_type": "markdown",
   "id": "c4899036",
   "metadata": {},
   "source": [
    "### Determinante de una matriz\n",
    "El determinante de una matriz cuadrada se calcula con la siguiente función:\n",
    "\n",
    "* **det(a) :** Devuelve el determinante de la matriz cuadrada a."
   ]
  },
  {
   "cell_type": "code",
   "execution_count": 61,
   "id": "2d7169b6",
   "metadata": {},
   "outputs": [
    {
     "name": "stdout",
     "output_type": "stream",
     "text": [
      "-2.0\n"
     ]
    }
   ],
   "source": [
    "import numpy as np\n",
    "a = np.array([[1, 2], [3, 4]])\n",
    "print(round(np.linalg.det(a),2))"
   ]
  },
  {
   "cell_type": "markdown",
   "id": "70689f25",
   "metadata": {},
   "source": [
    "### Matriz inversa\n",
    "La inversa de una matriz se calcula con la siguiente función:\n",
    "\n",
    "* **inv(a) :** Devuelve la matriz inversa de la matriz cuadrada a."
   ]
  },
  {
   "cell_type": "code",
   "execution_count": 62,
   "id": "070d84cd",
   "metadata": {},
   "outputs": [
    {
     "name": "stdout",
     "output_type": "stream",
     "text": [
      "[[-2.   1. ]\n",
      " [ 1.5 -0.5]]\n"
     ]
    }
   ],
   "source": [
    "import numpy as np\n",
    "a = np.array([[1, 2], [3, 4]])\n",
    "print(np.linalg.inv(a))"
   ]
  },
  {
   "cell_type": "markdown",
   "id": "f8ada43e",
   "metadata": {},
   "source": [
    "### Autovalores de una matriz\n",
    "Los autovalores de una matriz cuadrada se calculan con la siguiente función:\n",
    "\n",
    "* **eigvals(a) :** Devuelve los autovalores de la matriz cuadrada a."
   ]
  },
  {
   "cell_type": "code",
   "execution_count": 64,
   "id": "dc0662d0",
   "metadata": {},
   "outputs": [
    {
     "name": "stdout",
     "output_type": "stream",
     "text": [
      "[ 3.00000000e+00  1.00000000e+00 -1.64111068e-16]\n"
     ]
    }
   ],
   "source": [
    "import numpy as np\n",
    "a = np.array([[1, 1, 0], [1, 2, 1], [0, 1, 1]])\n",
    "print(np.linalg.eigvals(a))"
   ]
  },
  {
   "cell_type": "markdown",
   "id": "1bc6693d",
   "metadata": {},
   "source": [
    "### Autovectores de una matriz\n",
    "Los autovectores de una matriz cuadrada se calculan con la siguiente función:\n",
    "\n",
    "* **eig(a) :** Devuelve los autovalores y los autovectores asociados de la matriz cuadrada a."
   ]
  },
  {
   "cell_type": "code",
   "execution_count": 66,
   "id": "18d24fe3",
   "metadata": {},
   "outputs": [
    {
     "name": "stdout",
     "output_type": "stream",
     "text": [
      "(array([ 3.00000000e+00,  1.00000000e+00, -1.64111068e-16]), array([[-4.08248290e-01,  7.07106781e-01,  5.77350269e-01],\n",
      "       [-8.16496581e-01,  4.24983316e-16, -5.77350269e-01],\n",
      "       [-4.08248290e-01, -7.07106781e-01,  5.77350269e-01]]))\n"
     ]
    }
   ],
   "source": [
    "import numpy as np\n",
    "a = np.array([[1, 1, 0], [1, 2, 1], [0, 1, 1]])\n",
    "print(np.linalg.eig(a))"
   ]
  },
  {
   "cell_type": "markdown",
   "id": "ff9106bc",
   "metadata": {},
   "source": [
    "### Solución de un sistema de ecuaciones\n",
    "Para resolver un sistema de ecuaciones lineales se utiliza la función siguiente:\n",
    "\n",
    "* **solve(a, b) :** Devuelve la solución del sistema de ecuaciones lineales con los coeficientes de la matriz a y los términos independientes de la matriz b."
   ]
  },
  {
   "cell_type": "code",
   "execution_count": 67,
   "id": "bae5de5a",
   "metadata": {},
   "outputs": [
    {
     "name": "stdout",
     "output_type": "stream",
     "text": [
      "[-1.  1.]\n"
     ]
    }
   ],
   "source": [
    "import numpy as np\n",
    "# Sistema de dos ecuaciones y dos incógnitas\n",
    "# x + 2y = 1\n",
    "# 3x + 5y = 2 \n",
    "a = np.array([[1, 2], [3, 5]])\n",
    "b = np.array([1, 2])\n",
    "print(np.linalg.solve(a, b))"
   ]
  }
 ],
 "metadata": {
  "kernelspec": {
   "display_name": "Python 3 (ipykernel)",
   "language": "python",
   "name": "python3"
  },
  "language_info": {
   "codemirror_mode": {
    "name": "ipython",
    "version": 3
   },
   "file_extension": ".py",
   "mimetype": "text/x-python",
   "name": "python",
   "nbconvert_exporter": "python",
   "pygments_lexer": "ipython3",
   "version": "3.9.12"
  }
 },
 "nbformat": 4,
 "nbformat_minor": 5
}
