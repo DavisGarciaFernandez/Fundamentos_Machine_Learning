{
 "cells": [
  {
   "cell_type": "markdown",
   "id": "0095cf3c",
   "metadata": {},
   "source": [
    "# Ejercicio 1\n",
    "\n",
    "Realizar un programa que contenga una lista con 10 valores enteros. Informar de cuántos de ellos son superiores a 100."
   ]
  },
  {
   "cell_type": "code",
   "execution_count": null,
   "id": "94f9933e",
   "metadata": {},
   "outputs": [],
   "source": []
  },
  {
   "cell_type": "markdown",
   "id": "45cae449",
   "metadata": {},
   "source": [
    "# Ejercicio 2\n",
    "\n",
    "Una empresa divide el trabajo en dos turnos (mañana y tarde) en las que trabajan 6 empleados (3/turno). Agrupar los sueldos de los empleados en dos listas y mostrar después las listas por consola."
   ]
  },
  {
   "cell_type": "code",
   "execution_count": null,
   "id": "0159fd0a",
   "metadata": {},
   "outputs": [],
   "source": []
  },
  {
   "cell_type": "markdown",
   "id": "caae08bc",
   "metadata": {},
   "source": [
    "# Ejercicio 3\n",
    "\n",
    "Realizar un programa que permita crear una lista y almacenar los nombres de n países. Ordenar alfabéticamente la lista e imprimirla."
   ]
  },
  {
   "cell_type": "code",
   "execution_count": null,
   "id": "2ac377a2",
   "metadata": {},
   "outputs": [],
   "source": []
  },
  {
   "cell_type": "markdown",
   "id": "b359114c",
   "metadata": {},
   "source": [
    "# Ejercicio 4\n",
    "\n",
    "Realizar un programa que permita cargar una lista de n elementos enteros. Ordenarla de mayor a menor e imprimir los resultados obtenidos. Informar también del número mayor y del número menor."
   ]
  },
  {
   "cell_type": "code",
   "execution_count": null,
   "id": "db14bb10",
   "metadata": {},
   "outputs": [],
   "source": []
  },
  {
   "cell_type": "markdown",
   "id": "22e703be",
   "metadata": {},
   "source": [
    "# Ejercicio 5\n",
    "\n",
    "Realizar un programa que permita cargar n países y la cantidad de habitantes que residen en cada uno. Imprimir cada país con su número de habitantes correspondiente."
   ]
  },
  {
   "cell_type": "code",
   "execution_count": null,
   "id": "00c10f30",
   "metadata": {},
   "outputs": [],
   "source": []
  }
 ],
 "metadata": {
  "kernelspec": {
   "display_name": "Python 3 (ipykernel)",
   "language": "python",
   "name": "python3"
  },
  "language_info": {
   "codemirror_mode": {
    "name": "ipython",
    "version": 3
   },
   "file_extension": ".py",
   "mimetype": "text/x-python",
   "name": "python",
   "nbconvert_exporter": "python",
   "pygments_lexer": "ipython3",
   "version": "3.9.12"
  }
 },
 "nbformat": 4,
 "nbformat_minor": 5
}
